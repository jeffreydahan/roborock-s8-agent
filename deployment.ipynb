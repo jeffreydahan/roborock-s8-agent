{
 "cells": [
  {
   "cell_type": "code",
   "execution_count": null,
   "id": "0139dd8b",
   "metadata": {},
   "outputs": [
    {
     "name": "stdout",
     "output_type": "stream",
     "text": [
      "Requirement already satisfied: python-roborock in ./.venv/lib/python3.11/site-packages (2.18.0)\n",
      "Requirement already satisfied: aiohttp<4.0.0,>=3.8.2 in ./.venv/lib/python3.11/site-packages (from python-roborock) (3.11.18)\n",
      "Requirement already satisfied: async-timeout in ./.venv/lib/python3.11/site-packages (from python-roborock) (5.0.1)\n",
      "Requirement already satisfied: click>=8 in ./.venv/lib/python3.11/site-packages (from python-roborock) (8.1.8)\n",
      "Requirement already satisfied: construct<3.0.0,>=2.10.57 in ./.venv/lib/python3.11/site-packages (from python-roborock) (2.10.70)\n",
      "Requirement already satisfied: paho-mqtt<3.0.0,>=1.6.1 in ./.venv/lib/python3.11/site-packages (from python-roborock) (2.1.0)\n",
      "Requirement already satisfied: pycryptodome<4.0,>=3.18 in ./.venv/lib/python3.11/site-packages (from python-roborock) (3.22.0)\n",
      "Requirement already satisfied: pyrate-limiter<4.0.0,>=3.7.0 in ./.venv/lib/python3.11/site-packages (from python-roborock) (3.7.0)\n",
      "Requirement already satisfied: vacuum-map-parser-roborock in ./.venv/lib/python3.11/site-packages (from python-roborock) (0.1.2)\n",
      "Requirement already satisfied: aiohappyeyeballs>=2.3.0 in ./.venv/lib/python3.11/site-packages (from aiohttp<4.0.0,>=3.8.2->python-roborock) (2.6.1)\n",
      "Requirement already satisfied: aiosignal>=1.1.2 in ./.venv/lib/python3.11/site-packages (from aiohttp<4.0.0,>=3.8.2->python-roborock) (1.3.2)\n",
      "Requirement already satisfied: attrs>=17.3.0 in ./.venv/lib/python3.11/site-packages (from aiohttp<4.0.0,>=3.8.2->python-roborock) (25.3.0)\n",
      "Requirement already satisfied: frozenlist>=1.1.1 in ./.venv/lib/python3.11/site-packages (from aiohttp<4.0.0,>=3.8.2->python-roborock) (1.6.0)\n",
      "Requirement already satisfied: multidict<7.0,>=4.5 in ./.venv/lib/python3.11/site-packages (from aiohttp<4.0.0,>=3.8.2->python-roborock) (6.4.3)\n",
      "Requirement already satisfied: propcache>=0.2.0 in ./.venv/lib/python3.11/site-packages (from aiohttp<4.0.0,>=3.8.2->python-roborock) (0.3.1)\n",
      "Requirement already satisfied: yarl<2.0,>=1.17.0 in ./.venv/lib/python3.11/site-packages (from aiohttp<4.0.0,>=3.8.2->python-roborock) (1.20.0)\n",
      "Requirement already satisfied: idna>=2.0 in ./.venv/lib/python3.11/site-packages (from yarl<2.0,>=1.17.0->aiohttp<4.0.0,>=3.8.2->python-roborock) (3.10)\n",
      "Requirement already satisfied: Pillow in ./.venv/lib/python3.11/site-packages (from vacuum-map-parser-roborock->python-roborock) (11.2.1)\n",
      "Requirement already satisfied: vacuum-map-parser-base==0.1.3 in ./.venv/lib/python3.11/site-packages (from vacuum-map-parser-roborock->python-roborock) (0.1.3)\n",
      "Requirement already satisfied: google-cloud-aiplatform[adk,agent_engines] in ./.venv/lib/python3.11/site-packages (1.90.0)\n",
      "Requirement already satisfied: google-api-core!=2.0.*,!=2.1.*,!=2.2.*,!=2.3.*,!=2.4.*,!=2.5.*,!=2.6.*,!=2.7.*,<3.0.0,>=1.34.1 in ./.venv/lib/python3.11/site-packages (from google-api-core[grpc]!=2.0.*,!=2.1.*,!=2.2.*,!=2.3.*,!=2.4.*,!=2.5.*,!=2.6.*,!=2.7.*,<3.0.0,>=1.34.1->google-cloud-aiplatform[adk,agent_engines]) (2.24.2)\n",
      "Requirement already satisfied: google-auth<3.0.0,>=2.14.1 in ./.venv/lib/python3.11/site-packages (from google-cloud-aiplatform[adk,agent_engines]) (2.39.0)\n",
      "Requirement already satisfied: proto-plus<2.0.0,>=1.22.3 in ./.venv/lib/python3.11/site-packages (from google-cloud-aiplatform[adk,agent_engines]) (1.26.1)\n",
      "Requirement already satisfied: protobuf!=4.21.0,!=4.21.1,!=4.21.2,!=4.21.3,!=4.21.4,!=4.21.5,<7.0.0,>=3.20.2 in ./.venv/lib/python3.11/site-packages (from google-cloud-aiplatform[adk,agent_engines]) (6.30.2)\n",
      "Requirement already satisfied: packaging>=14.3 in ./.venv/lib/python3.11/site-packages (from google-cloud-aiplatform[adk,agent_engines]) (25.0)\n",
      "Requirement already satisfied: google-cloud-storage<3.0.0,>=1.32.0 in ./.venv/lib/python3.11/site-packages (from google-cloud-aiplatform[adk,agent_engines]) (2.19.0)\n",
      "Requirement already satisfied: google-cloud-bigquery!=3.20.0,<4.0.0,>=1.15.0 in ./.venv/lib/python3.11/site-packages (from google-cloud-aiplatform[adk,agent_engines]) (3.31.0)\n",
      "Requirement already satisfied: google-cloud-resource-manager<3.0.0,>=1.3.3 in ./.venv/lib/python3.11/site-packages (from google-cloud-aiplatform[adk,agent_engines]) (1.14.2)\n",
      "Requirement already satisfied: shapely<3.0.0 in ./.venv/lib/python3.11/site-packages (from google-cloud-aiplatform[adk,agent_engines]) (2.1.0)\n",
      "Requirement already satisfied: pydantic<3 in ./.venv/lib/python3.11/site-packages (from google-cloud-aiplatform[adk,agent_engines]) (2.11.3)\n",
      "Requirement already satisfied: typing-extensions in ./.venv/lib/python3.11/site-packages (from google-cloud-aiplatform[adk,agent_engines]) (4.13.2)\n",
      "Requirement already satisfied: docstring-parser<1 in ./.venv/lib/python3.11/site-packages (from google-cloud-aiplatform[adk,agent_engines]) (0.16)\n",
      "Requirement already satisfied: google-adk>=0.0.2 in ./.venv/lib/python3.11/site-packages (from google-cloud-aiplatform[adk,agent_engines]) (0.3.0)\n",
      "Requirement already satisfied: cloudpickle<4.0,>=3.0 in ./.venv/lib/python3.11/site-packages (from google-cloud-aiplatform[adk,agent_engines]) (3.1.1)\n",
      "Requirement already satisfied: google-cloud-trace<2 in ./.venv/lib/python3.11/site-packages (from google-cloud-aiplatform[adk,agent_engines]) (1.16.1)\n",
      "Requirement already satisfied: google-cloud-logging<4 in ./.venv/lib/python3.11/site-packages (from google-cloud-aiplatform[adk,agent_engines]) (3.12.1)\n",
      "Requirement already satisfied: opentelemetry-sdk<2 in ./.venv/lib/python3.11/site-packages (from google-cloud-aiplatform[adk,agent_engines]) (1.32.1)\n",
      "Requirement already satisfied: opentelemetry-exporter-gcp-trace<2 in ./.venv/lib/python3.11/site-packages (from google-cloud-aiplatform[adk,agent_engines]) (1.9.0)\n",
      "Requirement already satisfied: googleapis-common-protos<2.0.0,>=1.56.2 in ./.venv/lib/python3.11/site-packages (from google-api-core!=2.0.*,!=2.1.*,!=2.2.*,!=2.3.*,!=2.4.*,!=2.5.*,!=2.6.*,!=2.7.*,<3.0.0,>=1.34.1->google-api-core[grpc]!=2.0.*,!=2.1.*,!=2.2.*,!=2.3.*,!=2.4.*,!=2.5.*,!=2.6.*,!=2.7.*,<3.0.0,>=1.34.1->google-cloud-aiplatform[adk,agent_engines]) (1.70.0)\n",
      "Requirement already satisfied: requests<3.0.0,>=2.18.0 in ./.venv/lib/python3.11/site-packages (from google-api-core!=2.0.*,!=2.1.*,!=2.2.*,!=2.3.*,!=2.4.*,!=2.5.*,!=2.6.*,!=2.7.*,<3.0.0,>=1.34.1->google-api-core[grpc]!=2.0.*,!=2.1.*,!=2.2.*,!=2.3.*,!=2.4.*,!=2.5.*,!=2.6.*,!=2.7.*,<3.0.0,>=1.34.1->google-cloud-aiplatform[adk,agent_engines]) (2.32.3)\n",
      "Requirement already satisfied: grpcio<2.0dev,>=1.33.2 in ./.venv/lib/python3.11/site-packages (from google-api-core[grpc]!=2.0.*,!=2.1.*,!=2.2.*,!=2.3.*,!=2.4.*,!=2.5.*,!=2.6.*,!=2.7.*,<3.0.0,>=1.34.1->google-cloud-aiplatform[adk,agent_engines]) (1.72.0)\n",
      "Requirement already satisfied: grpcio-status<2.0.dev0,>=1.33.2 in ./.venv/lib/python3.11/site-packages (from google-api-core[grpc]!=2.0.*,!=2.1.*,!=2.2.*,!=2.3.*,!=2.4.*,!=2.5.*,!=2.6.*,!=2.7.*,<3.0.0,>=1.34.1->google-cloud-aiplatform[adk,agent_engines]) (1.72.0)\n",
      "Requirement already satisfied: cachetools<6.0,>=2.0.0 in ./.venv/lib/python3.11/site-packages (from google-auth<3.0.0,>=2.14.1->google-cloud-aiplatform[adk,agent_engines]) (5.5.2)\n",
      "Requirement already satisfied: pyasn1-modules>=0.2.1 in ./.venv/lib/python3.11/site-packages (from google-auth<3.0.0,>=2.14.1->google-cloud-aiplatform[adk,agent_engines]) (0.4.2)\n",
      "Requirement already satisfied: rsa<5,>=3.1.4 in ./.venv/lib/python3.11/site-packages (from google-auth<3.0.0,>=2.14.1->google-cloud-aiplatform[adk,agent_engines]) (4.9.1)\n",
      "Requirement already satisfied: google-cloud-core<3.0.0,>=2.4.1 in ./.venv/lib/python3.11/site-packages (from google-cloud-bigquery!=3.20.0,<4.0.0,>=1.15.0->google-cloud-aiplatform[adk,agent_engines]) (2.4.3)\n",
      "Requirement already satisfied: google-resumable-media<3.0.0,>=2.0.0 in ./.venv/lib/python3.11/site-packages (from google-cloud-bigquery!=3.20.0,<4.0.0,>=1.15.0->google-cloud-aiplatform[adk,agent_engines]) (2.7.2)\n",
      "Requirement already satisfied: python-dateutil<3.0.0,>=2.8.2 in ./.venv/lib/python3.11/site-packages (from google-cloud-bigquery!=3.20.0,<4.0.0,>=1.15.0->google-cloud-aiplatform[adk,agent_engines]) (2.9.0.post0)\n",
      "Requirement already satisfied: google-cloud-appengine-logging<2.0.0,>=0.1.3 in ./.venv/lib/python3.11/site-packages (from google-cloud-logging<4->google-cloud-aiplatform[adk,agent_engines]) (1.6.1)\n",
      "Requirement already satisfied: google-cloud-audit-log<1.0.0,>=0.3.1 in ./.venv/lib/python3.11/site-packages (from google-cloud-logging<4->google-cloud-aiplatform[adk,agent_engines]) (0.3.2)\n",
      "Requirement already satisfied: grpc-google-iam-v1<1.0.0,>=0.12.4 in ./.venv/lib/python3.11/site-packages (from google-cloud-logging<4->google-cloud-aiplatform[adk,agent_engines]) (0.14.2)\n",
      "Requirement already satisfied: opentelemetry-api>=1.9.0 in ./.venv/lib/python3.11/site-packages (from google-cloud-logging<4->google-cloud-aiplatform[adk,agent_engines]) (1.32.1)\n",
      "Requirement already satisfied: google-crc32c<2.0dev,>=1.0 in ./.venv/lib/python3.11/site-packages (from google-cloud-storage<3.0.0,>=1.32.0->google-cloud-aiplatform[adk,agent_engines]) (1.7.1)\n",
      "Requirement already satisfied: opentelemetry-resourcedetector-gcp==1.*,>=1.5.0dev0 in ./.venv/lib/python3.11/site-packages (from opentelemetry-exporter-gcp-trace<2->google-cloud-aiplatform[adk,agent_engines]) (1.9.0a0)\n",
      "Requirement already satisfied: deprecated>=1.2.6 in ./.venv/lib/python3.11/site-packages (from opentelemetry-api>=1.9.0->google-cloud-logging<4->google-cloud-aiplatform[adk,agent_engines]) (1.2.18)\n",
      "Requirement already satisfied: importlib-metadata<8.7.0,>=6.0 in ./.venv/lib/python3.11/site-packages (from opentelemetry-api>=1.9.0->google-cloud-logging<4->google-cloud-aiplatform[adk,agent_engines]) (8.6.1)\n",
      "Requirement already satisfied: zipp>=3.20 in ./.venv/lib/python3.11/site-packages (from importlib-metadata<8.7.0,>=6.0->opentelemetry-api>=1.9.0->google-cloud-logging<4->google-cloud-aiplatform[adk,agent_engines]) (3.21.0)\n",
      "Requirement already satisfied: opentelemetry-semantic-conventions==0.53b1 in ./.venv/lib/python3.11/site-packages (from opentelemetry-sdk<2->google-cloud-aiplatform[adk,agent_engines]) (0.53b1)\n",
      "Requirement already satisfied: annotated-types>=0.6.0 in ./.venv/lib/python3.11/site-packages (from pydantic<3->google-cloud-aiplatform[adk,agent_engines]) (0.7.0)\n",
      "Requirement already satisfied: pydantic-core==2.33.1 in ./.venv/lib/python3.11/site-packages (from pydantic<3->google-cloud-aiplatform[adk,agent_engines]) (2.33.1)\n",
      "Requirement already satisfied: typing-inspection>=0.4.0 in ./.venv/lib/python3.11/site-packages (from pydantic<3->google-cloud-aiplatform[adk,agent_engines]) (0.4.0)\n",
      "Requirement already satisfied: six>=1.5 in ./.venv/lib/python3.11/site-packages (from python-dateutil<3.0.0,>=2.8.2->google-cloud-bigquery!=3.20.0,<4.0.0,>=1.15.0->google-cloud-aiplatform[adk,agent_engines]) (1.17.0)\n",
      "Requirement already satisfied: charset-normalizer<4,>=2 in ./.venv/lib/python3.11/site-packages (from requests<3.0.0,>=2.18.0->google-api-core!=2.0.*,!=2.1.*,!=2.2.*,!=2.3.*,!=2.4.*,!=2.5.*,!=2.6.*,!=2.7.*,<3.0.0,>=1.34.1->google-api-core[grpc]!=2.0.*,!=2.1.*,!=2.2.*,!=2.3.*,!=2.4.*,!=2.5.*,!=2.6.*,!=2.7.*,<3.0.0,>=1.34.1->google-cloud-aiplatform[adk,agent_engines]) (3.4.1)\n",
      "Requirement already satisfied: idna<4,>=2.5 in ./.venv/lib/python3.11/site-packages (from requests<3.0.0,>=2.18.0->google-api-core!=2.0.*,!=2.1.*,!=2.2.*,!=2.3.*,!=2.4.*,!=2.5.*,!=2.6.*,!=2.7.*,<3.0.0,>=1.34.1->google-api-core[grpc]!=2.0.*,!=2.1.*,!=2.2.*,!=2.3.*,!=2.4.*,!=2.5.*,!=2.6.*,!=2.7.*,<3.0.0,>=1.34.1->google-cloud-aiplatform[adk,agent_engines]) (3.10)\n",
      "Requirement already satisfied: urllib3<3,>=1.21.1 in ./.venv/lib/python3.11/site-packages (from requests<3.0.0,>=2.18.0->google-api-core!=2.0.*,!=2.1.*,!=2.2.*,!=2.3.*,!=2.4.*,!=2.5.*,!=2.6.*,!=2.7.*,<3.0.0,>=1.34.1->google-api-core[grpc]!=2.0.*,!=2.1.*,!=2.2.*,!=2.3.*,!=2.4.*,!=2.5.*,!=2.6.*,!=2.7.*,<3.0.0,>=1.34.1->google-cloud-aiplatform[adk,agent_engines]) (2.4.0)\n",
      "Requirement already satisfied: certifi>=2017.4.17 in ./.venv/lib/python3.11/site-packages (from requests<3.0.0,>=2.18.0->google-api-core!=2.0.*,!=2.1.*,!=2.2.*,!=2.3.*,!=2.4.*,!=2.5.*,!=2.6.*,!=2.7.*,<3.0.0,>=1.34.1->google-api-core[grpc]!=2.0.*,!=2.1.*,!=2.2.*,!=2.3.*,!=2.4.*,!=2.5.*,!=2.6.*,!=2.7.*,<3.0.0,>=1.34.1->google-cloud-aiplatform[adk,agent_engines]) (2025.1.31)\n",
      "Requirement already satisfied: pyasn1>=0.1.3 in ./.venv/lib/python3.11/site-packages (from rsa<5,>=3.1.4->google-auth<3.0.0,>=2.14.1->google-cloud-aiplatform[adk,agent_engines]) (0.6.1)\n",
      "Requirement already satisfied: numpy>=1.21 in ./.venv/lib/python3.11/site-packages (from shapely<3.0.0->google-cloud-aiplatform[adk,agent_engines]) (2.2.5)\n",
      "Requirement already satisfied: wrapt<2,>=1.10 in ./.venv/lib/python3.11/site-packages (from deprecated>=1.2.6->opentelemetry-api>=1.9.0->google-cloud-logging<4->google-cloud-aiplatform[adk,agent_engines]) (1.17.2)\n",
      "Requirement already satisfied: authlib>=1.5.1 in ./.venv/lib/python3.11/site-packages (from google-adk>=0.0.2->google-cloud-aiplatform[adk,agent_engines]) (1.5.2)\n",
      "Requirement already satisfied: click>=8.1.8 in ./.venv/lib/python3.11/site-packages (from google-adk>=0.0.2->google-cloud-aiplatform[adk,agent_engines]) (8.1.8)\n",
      "Requirement already satisfied: fastapi>=0.115.0 in ./.venv/lib/python3.11/site-packages (from google-adk>=0.0.2->google-cloud-aiplatform[adk,agent_engines]) (0.115.12)\n",
      "Requirement already satisfied: google-api-python-client>=2.157.0 in ./.venv/lib/python3.11/site-packages (from google-adk>=0.0.2->google-cloud-aiplatform[adk,agent_engines]) (2.168.0)\n",
      "Requirement already satisfied: google-cloud-secret-manager>=2.22.0 in ./.venv/lib/python3.11/site-packages (from google-adk>=0.0.2->google-cloud-aiplatform[adk,agent_engines]) (2.23.3)\n",
      "Requirement already satisfied: google-cloud-speech>=2.30.0 in ./.venv/lib/python3.11/site-packages (from google-adk>=0.0.2->google-cloud-aiplatform[adk,agent_engines]) (2.32.0)\n",
      "Requirement already satisfied: google-genai>=1.11.0 in ./.venv/lib/python3.11/site-packages (from google-adk>=0.0.2->google-cloud-aiplatform[adk,agent_engines]) (1.13.0)\n",
      "Requirement already satisfied: graphviz>=0.20.2 in ./.venv/lib/python3.11/site-packages (from google-adk>=0.0.2->google-cloud-aiplatform[adk,agent_engines]) (0.20.3)\n",
      "Requirement already satisfied: mcp>=1.5.0 in ./.venv/lib/python3.11/site-packages (from google-adk>=0.0.2->google-cloud-aiplatform[adk,agent_engines]) (1.6.0)\n",
      "Requirement already satisfied: python-dotenv>=1.0.0 in ./.venv/lib/python3.11/site-packages (from google-adk>=0.0.2->google-cloud-aiplatform[adk,agent_engines]) (1.1.0)\n",
      "Requirement already satisfied: PyYAML>=6.0.2 in ./.venv/lib/python3.11/site-packages (from google-adk>=0.0.2->google-cloud-aiplatform[adk,agent_engines]) (6.0.2)\n",
      "Requirement already satisfied: sqlalchemy>=2.0 in ./.venv/lib/python3.11/site-packages (from google-adk>=0.0.2->google-cloud-aiplatform[adk,agent_engines]) (2.0.40)\n",
      "Requirement already satisfied: tzlocal>=5.3 in ./.venv/lib/python3.11/site-packages (from google-adk>=0.0.2->google-cloud-aiplatform[adk,agent_engines]) (5.3.1)\n",
      "Requirement already satisfied: uvicorn>=0.34.0 in ./.venv/lib/python3.11/site-packages (from google-adk>=0.0.2->google-cloud-aiplatform[adk,agent_engines]) (0.34.2)\n",
      "Requirement already satisfied: cryptography in ./.venv/lib/python3.11/site-packages (from authlib>=1.5.1->google-adk>=0.0.2->google-cloud-aiplatform[adk,agent_engines]) (44.0.2)\n",
      "Requirement already satisfied: starlette<0.47.0,>=0.40.0 in ./.venv/lib/python3.11/site-packages (from fastapi>=0.115.0->google-adk>=0.0.2->google-cloud-aiplatform[adk,agent_engines]) (0.46.2)\n",
      "Requirement already satisfied: anyio<5,>=3.6.2 in ./.venv/lib/python3.11/site-packages (from starlette<0.47.0,>=0.40.0->fastapi>=0.115.0->google-adk>=0.0.2->google-cloud-aiplatform[adk,agent_engines]) (4.9.0)\n",
      "Requirement already satisfied: sniffio>=1.1 in ./.venv/lib/python3.11/site-packages (from anyio<5,>=3.6.2->starlette<0.47.0,>=0.40.0->fastapi>=0.115.0->google-adk>=0.0.2->google-cloud-aiplatform[adk,agent_engines]) (1.3.1)\n",
      "Requirement already satisfied: httplib2<1.0.0,>=0.19.0 in ./.venv/lib/python3.11/site-packages (from google-api-python-client>=2.157.0->google-adk>=0.0.2->google-cloud-aiplatform[adk,agent_engines]) (0.22.0)\n",
      "Requirement already satisfied: google-auth-httplib2<1.0.0,>=0.2.0 in ./.venv/lib/python3.11/site-packages (from google-api-python-client>=2.157.0->google-adk>=0.0.2->google-cloud-aiplatform[adk,agent_engines]) (0.2.0)\n",
      "Requirement already satisfied: uritemplate<5,>=3.0.1 in ./.venv/lib/python3.11/site-packages (from google-api-python-client>=2.157.0->google-adk>=0.0.2->google-cloud-aiplatform[adk,agent_engines]) (4.1.1)\n",
      "Requirement already satisfied: pyparsing!=3.0.0,!=3.0.1,!=3.0.2,!=3.0.3,<4,>=2.4.2 in ./.venv/lib/python3.11/site-packages (from httplib2<1.0.0,>=0.19.0->google-api-python-client>=2.157.0->google-adk>=0.0.2->google-cloud-aiplatform[adk,agent_engines]) (3.2.3)\n",
      "Requirement already satisfied: httpx<1.0.0,>=0.28.1 in ./.venv/lib/python3.11/site-packages (from google-genai>=1.11.0->google-adk>=0.0.2->google-cloud-aiplatform[adk,agent_engines]) (0.28.1)\n",
      "Requirement already satisfied: websockets<15.1.0,>=13.0.0 in ./.venv/lib/python3.11/site-packages (from google-genai>=1.11.0->google-adk>=0.0.2->google-cloud-aiplatform[adk,agent_engines]) (15.0.1)\n",
      "Requirement already satisfied: httpcore==1.* in ./.venv/lib/python3.11/site-packages (from httpx<1.0.0,>=0.28.1->google-genai>=1.11.0->google-adk>=0.0.2->google-cloud-aiplatform[adk,agent_engines]) (1.0.9)\n",
      "Requirement already satisfied: h11>=0.16 in ./.venv/lib/python3.11/site-packages (from httpcore==1.*->httpx<1.0.0,>=0.28.1->google-genai>=1.11.0->google-adk>=0.0.2->google-cloud-aiplatform[adk,agent_engines]) (0.16.0)\n",
      "Requirement already satisfied: httpx-sse>=0.4 in ./.venv/lib/python3.11/site-packages (from mcp>=1.5.0->google-adk>=0.0.2->google-cloud-aiplatform[adk,agent_engines]) (0.4.0)\n",
      "Requirement already satisfied: pydantic-settings>=2.5.2 in ./.venv/lib/python3.11/site-packages (from mcp>=1.5.0->google-adk>=0.0.2->google-cloud-aiplatform[adk,agent_engines]) (2.9.1)\n",
      "Requirement already satisfied: sse-starlette>=1.6.1 in ./.venv/lib/python3.11/site-packages (from mcp>=1.5.0->google-adk>=0.0.2->google-cloud-aiplatform[adk,agent_engines]) (2.3.3)\n",
      "Requirement already satisfied: greenlet>=1 in ./.venv/lib/python3.11/site-packages (from sqlalchemy>=2.0->google-adk>=0.0.2->google-cloud-aiplatform[adk,agent_engines]) (3.2.1)\n",
      "Requirement already satisfied: cffi>=1.12 in ./.venv/lib/python3.11/site-packages (from cryptography->authlib>=1.5.1->google-adk>=0.0.2->google-cloud-aiplatform[adk,agent_engines]) (1.17.1)\n",
      "Requirement already satisfied: pycparser in ./.venv/lib/python3.11/site-packages (from cffi>=1.12->cryptography->authlib>=1.5.1->google-adk>=0.0.2->google-cloud-aiplatform[adk,agent_engines]) (2.22)\n"
     ]
    }
   ],
   "source": [
    "!pip install python-roborock\n",
    "!pip install google-cloud-aiplatform[adk,agent_engines]\n"
   ]
  },
  {
   "cell_type": "code",
   "execution_count": 15,
   "id": "eac697b2",
   "metadata": {},
   "outputs": [
    {
     "data": {
      "text/plain": [
       "True"
      ]
     },
     "execution_count": 15,
     "metadata": {},
     "output_type": "execute_result"
    }
   ],
   "source": [
    "from dotenv import load_dotenv\n",
    "\n",
    "load_dotenv()\n"
   ]
  },
  {
   "cell_type": "code",
   "execution_count": 16,
   "id": "6b34a895",
   "metadata": {},
   "outputs": [],
   "source": [
    "\n",
    "from google.adk.agents import Agent\n",
    "import vertexai\n",
    "\n",
    "# Import Roborock libraries\n",
    "from roborock import HomeDataProduct, DeviceData, RoborockCommand\n",
    "from roborock.version_1_apis import RoborockMqttClientV1, RoborockLocalClientV1\n",
    "from roborock.web_api import RoborockApiClient\n",
    "\n",
    "import os\n",
    "\n",
    "# import all functions from the agent.py in the local directory\n",
    "import agent\n"
   ]
  },
  {
   "cell_type": "code",
   "execution_count": 27,
   "id": "bfde28a6",
   "metadata": {},
   "outputs": [],
   "source": [
    "# Global variables to hold the MQTT client and device\n",
    "mqtt_client = None\n",
    "device = None\n",
    "\n",
    "# Helper function to get environment variables\n",
    "def get_env_var(key):\n",
    "    value = os.getenv(key)\n",
    "    if value is None:\n",
    "        raise ValueError(f\"Environment variable '{key}' not found.\")\n",
    "    return value\n",
    "\n",
    "# Login to Roborock (will only run if mqtt_client is None)\n",
    "async def ensure_login():\n",
    "    global mqtt_client\n",
    "    global device\n",
    "    if mqtt_client is None:\n",
    "        try:\n",
    "            web_api = RoborockApiClient(username=get_env_var('ROBOROCK_USERNAME'))\n",
    "            user_data = await web_api.pass_login(password=get_env_var('ROBOROCK_PASSWORD'))\n",
    "            home_data = await web_api.get_home_data_v2(user_data)\n",
    "            device_data = home_data.devices[0]\n",
    "            product_info: dict[str, HomeDataProduct] = {\n",
    "                product.id: product for product in home_data.products\n",
    "            }\n",
    "            device = DeviceData(device_data, product_info[device_data.product_id].model)\n",
    "            mqtt_client = RoborockMqttClientV1(user_data, device)\n",
    "            await mqtt_client.async_connect()\n",
    "            print(\"Roborock login successful.\")\n",
    "            return True\n",
    "        except Exception as e:\n",
    "            print(f\"Roborock login failed: {e}\")\n",
    "            mqtt_client = None\n",
    "            device = None\n",
    "            return False\n",
    "    return True\n",
    "\n",
    "# Resets Roborock login and session\n",
    "async def reset_connection():\n",
    "    global mqtt_client\n",
    "    global device\n",
    "    if mqtt_client:\n",
    "        try:\n",
    "            await mqtt_client.async_disconnect()\n",
    "            print(\"MQTT client disconnected.\")\n",
    "        except Exception as e:\n",
    "            print(f\"Error disconnecting MQTT client: {e}\")\n",
    "        finally:\n",
    "            mqtt_client = None\n",
    "            device = None\n",
    "            print(\"Roborock connection reset.\")\n",
    "\n",
    "# Get Roborock status\n",
    "async def get_status():\n",
    "    if not await ensure_login():\n",
    "        return {\"error\": \"Not logged in to Roborock.\"}\n",
    "    try:\n",
    "        status = await mqtt_client.get_status()\n",
    "        print(\"Current Status:\")\n",
    "        print(status)\n",
    "        return {\n",
    "            \"state\": status.state_name,\n",
    "            \"battery\": status.battery,\n",
    "            \"clean_time\": status.clean_time,\n",
    "            \"clean_area\": status.square_meter_clean_area,\n",
    "            \"error\": status.error_code_name,\n",
    "            \"fan_speed\": status.fan_power_name,\n",
    "            \"mop_mode\": status.mop_mode_name,\n",
    "            \"docked\": status.state_name == \"charging\"\n",
    "        }\n",
    "    except Exception as e:\n",
    "        print(f\"Error getting status: {e}\")\n",
    "        await reset_connection()\n",
    "        return {\"error\": f\"Error getting status: {e}. Connection reset.\"}\n",
    "\n",
    "# Send basic Roborock commands that don't have parameters\n",
    "async def send_basic_command(command: str) -> str:\n",
    "    if not await ensure_login():\n",
    "        return {\"error\": \"Not logged in to Roborock.\"}\n",
    "    try:\n",
    "        await mqtt_client.send_command(command)\n",
    "        print(f\"Command sent: {command}\")\n",
    "        return {\"result\": f\"Command {command} sent successfully.\"}\n",
    "    except Exception as e:\n",
    "        print(f\"Error sending {command}: {e}\")\n",
    "        await reset_connection()\n",
    "        return {\"error\": f\"Error sending {command}: {e}. Connection reset.\"}\n",
    "\n",
    "# cleans a specific room also known as segment. To Do is to make this dynamic based upon desired segment from instructions mapping in the Agent definition below. \n",
    "async def app_segment_clean(segment_number: dict) -> str:\n",
    "    if not await ensure_login():\n",
    "        return {\"error\": \"Not logged in to Roborock.\"}\n",
    "    command = \"app_segment_clean\"\n",
    "    try:\n",
    "        segment = await mqtt_client.send_command(command, [{\"segments\": segment_number, \"repeat\": 1}])\n",
    "        print(f\"Command sent: {command}\")\n",
    "        return segment\n",
    "    except Exception as e:\n",
    "        print(f\"Error sending {command}: {e}\")\n",
    "        await reset_connection()\n",
    "        return {\"error\": f\"Error sending {command}: {e}. Connection reset.\"}\n"
   ]
  },
  {
   "cell_type": "code",
   "execution_count": 28,
   "id": "d3691ef8",
   "metadata": {},
   "outputs": [],
   "source": [
    "# root agent definition\n",
    "root_agent =  Agent(\n",
    "    name=\"Roborock_Agent\", # ensure no spaces here\n",
    "    # model=\"gemini-2.0-flash-exp\", # for live api\n",
    "    model=\"gemini-2.0-flash\",\n",
    "    description=\"Agent to control and get status of your Roborock vacuum\",\n",
    "    # natural language instruction set which explains to the agent its capabilities and how to operate\n",
    "    instruction=\"\"\"I can control and get the status of your Roborock vacuum.\n",
    "        I can handle the following commands:\n",
    "        - get_status (this command gets the current status of the Roborock)\n",
    "        when the above command is needed, call the get_status function\n",
    "        \n",
    "        Additional commands.  Use the send_basic_command function for these commands\n",
    "        - app_charge (this command sends the Roborock back to the dock)\n",
    "        - app_start_wash (this command starts the washing of the mop while docked)\n",
    "        - app_stop_wash (this command stops the washing of the mop while docked)\n",
    "        - app_start (this command starts vacuuming and mopping job)\n",
    "        - app_stop (this command stops the vacuuming and mopping job)\n",
    "        - app_pause (this command pauses the vacuuming and mopping job)\n",
    "        - app_start_collect_dust (this command starts emptying the dust bin)\n",
    "        - app_stop_collect_dust (this command stops emptying the dust bin)\n",
    "        - get_room_mapping (gets a list of the rooms in a map)\n",
    "\n",
    "        when the above commands are needed, call send_basic_command(command).  Examples:\n",
    "        - for app_start_wash call send_basic_command(\"app_start_wash\")\n",
    "        - for app_stop_wash call send_bacic_command(\"app_stop_wash\")\n",
    "\n",
    "        Additional commands:\n",
    "        - app_segment_clean (this command starts cleaning rooms or segments) \n",
    "        - for this command, use the function app_segment_clean function\n",
    "        - when using this command, you must pass a segment number from the mapping below as a list of integers.  \n",
    "        - For example, for a request to clean Bedroom4, you would call:\n",
    "        app_segment_clean([16])\n",
    "        - if multiple rooms are specified,\n",
    "        app_segment_clean([16,18])\n",
    "\n",
    "\n",
    "        Segment mapping:\n",
    "        16 = Bedroom4\n",
    "        17 = Balcony\n",
    "        18 = Bedroom3\n",
    "        19 = Bathroom\n",
    "        20 = Hallway\n",
    "        21 = Kitchen\n",
    "        22 = Dining Room\n",
    "        23 = Entryway\n",
    "        24 = Bedroom1\n",
    "        25 = Bedroom2\n",
    "        26 = Living Room\n",
    "\n",
    "        ***Finally, format the status as a nice table***\n",
    "\n",
    "        \"\"\",\n",
    "    # tells the agent what tools (function names from above) it has access to. The agent uses the instructions above to understand how and when to use these tools. \n",
    "    tools=[\n",
    "        get_status,\n",
    "        send_basic_command,\n",
    "        app_segment_clean,\n",
    "    ],\n",
    ")"
   ]
  },
  {
   "cell_type": "code",
   "execution_count": 25,
   "id": "d0532c5a",
   "metadata": {},
   "outputs": [],
   "source": [
    "# Global variables to hold the MQTT client and device\n",
    "mqtt_client = None\n",
    "device = None\n",
    "\n",
    "# Helper function to get environment variables\n",
    "def get_env_var(key):\n",
    "    value = os.getenv(key)\n",
    "    if value is None:\n",
    "        raise ValueError(f\"Environment variable '{key}' not found.\")\n",
    "    return value\n",
    "\n",
    "project_id=get_env_var(\"GOOGLE_CLOUD_PROJECT\")\n",
    "staging_bucket=get_env_var(\"GOOGLE_CLOUD_STORAGE_BUCKET\")\n",
    "location=get_env_var(\"GOOGLE_CLOUD_LOCATION\")\n",
    "\n",
    "# initialitze vertexai\n",
    "vertexai.init(\n",
    "    project=project_id,\n",
    "    location=location,\n",
    "    staging_bucket=staging_bucket,\n",
    ")\n",
    "\n",
    "\n",
    "# root agent definition\n",
    "root_agent = agent.root_agent"
   ]
  },
  {
   "cell_type": "code",
   "execution_count": 29,
   "id": "194ccca4",
   "metadata": {},
   "outputs": [],
   "source": [
    "from vertexai.preview import reasoning_engines\n",
    "\n",
    "app = reasoning_engines.AdkApp(\n",
    "    agent=root_agent,\n",
    "    enable_tracing=True,\n",
    ")"
   ]
  },
  {
   "cell_type": "code",
   "execution_count": 24,
   "id": "21ee60aa",
   "metadata": {},
   "outputs": [
    {
     "name": "stdout",
     "output_type": "stream",
     "text": [
      "            Credentialed Accounts\n",
      "ACTIVE  ACCOUNT\n",
      "*       admin@jeffdahan.altostrat.com\n",
      "        jeffdahan@stevephillips.altostrat.com\n",
      "        jeffreydahan@gmail.com\n",
      "\n",
      "To set the active account, run:\n",
      "    $ gcloud config set account `ACCOUNT`\n",
      "\n",
      "[core]\n",
      "project = fine-tuning-webinar\n",
      "\n",
      "Your active configuration is: [default]\n",
      "\n"
     ]
    }
   ],
   "source": [
    "# In a Jupyter cell\n",
    "!gcloud auth list\n",
    "!gcloud config list project\n",
    "!echo $GOOGLE_APPLICATION_CREDENTIALS # On Linux/macOS\n",
    "# !echo %GOOGLE_APPLICATION_CREDENTIALS% # On Windows CMD\n",
    "# !Get-ChildItem Env:GOOGLE_APPLICATION_CREDENTIALS # On Windows PowerShell\n"
   ]
  },
  {
   "cell_type": "code",
   "execution_count": null,
   "id": "125ea532",
   "metadata": {},
   "outputs": [
    {
     "name": "stdout",
     "output_type": "stream",
     "text": [
      "Deploying google.adk.agents.Agent as an application.\n",
      "Identified the following requirements: {'pydantic': '2.11.3', 'cloudpickle': '3.1.1', 'google-cloud-aiplatform': '1.90.0'}\n",
      "The following requirements are missing: {'pydantic', 'cloudpickle'}\n",
      "The following requirements are appended: {'cloudpickle==3.1.1', 'pydantic==2.11.3'}\n",
      "The final list of requirements: ['google-cloud-aiplatform[adk,agent_engines]', 'python-roborock', 'cloudpickle==3.1.1', 'pydantic==2.11.3']\n",
      "Using bucket adk-agent-engine-staging\n",
      "Wrote to gs://adk-agent-engine-staging/agent_engine/agent_engine.pkl\n",
      "Writing to gs://adk-agent-engine-staging/agent_engine/requirements.txt\n",
      "Creating in-memory tarfile of extra_packages\n",
      "Writing to gs://adk-agent-engine-staging/agent_engine/dependencies.tar.gz\n"
     ]
    },
    {
     "ename": "ServiceUnavailable",
     "evalue": "503 Getting metadata from plugin failed with error: Reauthentication is needed. Please run `gcloud auth application-default login` to reauthenticate.",
     "output_type": "error",
     "traceback": [
      "\u001b[31m---------------------------------------------------------------------------\u001b[39m",
      "\u001b[31m_InactiveRpcError\u001b[39m                         Traceback (most recent call last)",
      "\u001b[36mFile \u001b[39m\u001b[32m~/code/adk/roborock-s8-agent/.venv/lib/python3.11/site-packages/google/api_core/grpc_helpers.py:76\u001b[39m, in \u001b[36m_wrap_unary_errors.<locals>.error_remapped_callable\u001b[39m\u001b[34m(*args, **kwargs)\u001b[39m\n\u001b[32m     75\u001b[39m \u001b[38;5;28;01mtry\u001b[39;00m:\n\u001b[32m---> \u001b[39m\u001b[32m76\u001b[39m     \u001b[38;5;28;01mreturn\u001b[39;00m \u001b[43mcallable_\u001b[49m\u001b[43m(\u001b[49m\u001b[43m*\u001b[49m\u001b[43margs\u001b[49m\u001b[43m,\u001b[49m\u001b[43m \u001b[49m\u001b[43m*\u001b[49m\u001b[43m*\u001b[49m\u001b[43mkwargs\u001b[49m\u001b[43m)\u001b[49m\n\u001b[32m     77\u001b[39m \u001b[38;5;28;01mexcept\u001b[39;00m grpc.RpcError \u001b[38;5;28;01mas\u001b[39;00m exc:\n",
      "\u001b[36mFile \u001b[39m\u001b[32m~/code/adk/roborock-s8-agent/.venv/lib/python3.11/site-packages/grpc/_interceptor.py:277\u001b[39m, in \u001b[36m_UnaryUnaryMultiCallable.__call__\u001b[39m\u001b[34m(self, request, timeout, metadata, credentials, wait_for_ready, compression)\u001b[39m\n\u001b[32m    268\u001b[39m \u001b[38;5;28;01mdef\u001b[39;00m\u001b[38;5;250m \u001b[39m\u001b[34m__call__\u001b[39m(\n\u001b[32m    269\u001b[39m     \u001b[38;5;28mself\u001b[39m,\n\u001b[32m    270\u001b[39m     request: Any,\n\u001b[32m   (...)\u001b[39m\u001b[32m    275\u001b[39m     compression: Optional[grpc.Compression] = \u001b[38;5;28;01mNone\u001b[39;00m,\n\u001b[32m    276\u001b[39m ) -> Any:\n\u001b[32m--> \u001b[39m\u001b[32m277\u001b[39m     response, ignored_call = \u001b[38;5;28;43mself\u001b[39;49m\u001b[43m.\u001b[49m\u001b[43m_with_call\u001b[49m\u001b[43m(\u001b[49m\n\u001b[32m    278\u001b[39m \u001b[43m        \u001b[49m\u001b[43mrequest\u001b[49m\u001b[43m,\u001b[49m\n\u001b[32m    279\u001b[39m \u001b[43m        \u001b[49m\u001b[43mtimeout\u001b[49m\u001b[43m=\u001b[49m\u001b[43mtimeout\u001b[49m\u001b[43m,\u001b[49m\n\u001b[32m    280\u001b[39m \u001b[43m        \u001b[49m\u001b[43mmetadata\u001b[49m\u001b[43m=\u001b[49m\u001b[43mmetadata\u001b[49m\u001b[43m,\u001b[49m\n\u001b[32m    281\u001b[39m \u001b[43m        \u001b[49m\u001b[43mcredentials\u001b[49m\u001b[43m=\u001b[49m\u001b[43mcredentials\u001b[49m\u001b[43m,\u001b[49m\n\u001b[32m    282\u001b[39m \u001b[43m        \u001b[49m\u001b[43mwait_for_ready\u001b[49m\u001b[43m=\u001b[49m\u001b[43mwait_for_ready\u001b[49m\u001b[43m,\u001b[49m\n\u001b[32m    283\u001b[39m \u001b[43m        \u001b[49m\u001b[43mcompression\u001b[49m\u001b[43m=\u001b[49m\u001b[43mcompression\u001b[49m\u001b[43m,\u001b[49m\n\u001b[32m    284\u001b[39m \u001b[43m    \u001b[49m\u001b[43m)\u001b[49m\n\u001b[32m    285\u001b[39m     \u001b[38;5;28;01mreturn\u001b[39;00m response\n",
      "\u001b[36mFile \u001b[39m\u001b[32m~/code/adk/roborock-s8-agent/.venv/lib/python3.11/site-packages/grpc/_interceptor.py:332\u001b[39m, in \u001b[36m_UnaryUnaryMultiCallable._with_call\u001b[39m\u001b[34m(self, request, timeout, metadata, credentials, wait_for_ready, compression)\u001b[39m\n\u001b[32m    329\u001b[39m call = \u001b[38;5;28mself\u001b[39m._interceptor.intercept_unary_unary(\n\u001b[32m    330\u001b[39m     continuation, client_call_details, request\n\u001b[32m    331\u001b[39m )\n\u001b[32m--> \u001b[39m\u001b[32m332\u001b[39m \u001b[38;5;28;01mreturn\u001b[39;00m \u001b[43mcall\u001b[49m\u001b[43m.\u001b[49m\u001b[43mresult\u001b[49m\u001b[43m(\u001b[49m\u001b[43m)\u001b[49m, call\n",
      "\u001b[36mFile \u001b[39m\u001b[32m~/code/adk/roborock-s8-agent/.venv/lib/python3.11/site-packages/grpc/_channel.py:440\u001b[39m, in \u001b[36m_InactiveRpcError.result\u001b[39m\u001b[34m(self, timeout)\u001b[39m\n\u001b[32m    439\u001b[39m \u001b[38;5;250m\u001b[39m\u001b[33;03m\"\"\"See grpc.Future.result.\"\"\"\u001b[39;00m\n\u001b[32m--> \u001b[39m\u001b[32m440\u001b[39m \u001b[38;5;28;01mraise\u001b[39;00m \u001b[38;5;28mself\u001b[39m\n",
      "\u001b[36mFile \u001b[39m\u001b[32m~/code/adk/roborock-s8-agent/.venv/lib/python3.11/site-packages/grpc/_interceptor.py:315\u001b[39m, in \u001b[36m_UnaryUnaryMultiCallable._with_call.<locals>.continuation\u001b[39m\u001b[34m(new_details, request)\u001b[39m\n\u001b[32m    314\u001b[39m \u001b[38;5;28;01mtry\u001b[39;00m:\n\u001b[32m--> \u001b[39m\u001b[32m315\u001b[39m     response, call = \u001b[38;5;28;43mself\u001b[39;49m\u001b[43m.\u001b[49m\u001b[43m_thunk\u001b[49m\u001b[43m(\u001b[49m\u001b[43mnew_method\u001b[49m\u001b[43m)\u001b[49m\u001b[43m.\u001b[49m\u001b[43mwith_call\u001b[49m\u001b[43m(\u001b[49m\n\u001b[32m    316\u001b[39m \u001b[43m        \u001b[49m\u001b[43mrequest\u001b[49m\u001b[43m,\u001b[49m\n\u001b[32m    317\u001b[39m \u001b[43m        \u001b[49m\u001b[43mtimeout\u001b[49m\u001b[43m=\u001b[49m\u001b[43mnew_timeout\u001b[49m\u001b[43m,\u001b[49m\n\u001b[32m    318\u001b[39m \u001b[43m        \u001b[49m\u001b[43mmetadata\u001b[49m\u001b[43m=\u001b[49m\u001b[43mnew_metadata\u001b[49m\u001b[43m,\u001b[49m\n\u001b[32m    319\u001b[39m \u001b[43m        \u001b[49m\u001b[43mcredentials\u001b[49m\u001b[43m=\u001b[49m\u001b[43mnew_credentials\u001b[49m\u001b[43m,\u001b[49m\n\u001b[32m    320\u001b[39m \u001b[43m        \u001b[49m\u001b[43mwait_for_ready\u001b[49m\u001b[43m=\u001b[49m\u001b[43mnew_wait_for_ready\u001b[49m\u001b[43m,\u001b[49m\n\u001b[32m    321\u001b[39m \u001b[43m        \u001b[49m\u001b[43mcompression\u001b[49m\u001b[43m=\u001b[49m\u001b[43mnew_compression\u001b[49m\u001b[43m,\u001b[49m\n\u001b[32m    322\u001b[39m \u001b[43m    \u001b[49m\u001b[43m)\u001b[49m\n\u001b[32m    323\u001b[39m     \u001b[38;5;28;01mreturn\u001b[39;00m _UnaryOutcome(response, call)\n",
      "\u001b[36mFile \u001b[39m\u001b[32m~/code/adk/roborock-s8-agent/.venv/lib/python3.11/site-packages/grpc/_channel.py:1198\u001b[39m, in \u001b[36m_UnaryUnaryMultiCallable.with_call\u001b[39m\u001b[34m(self, request, timeout, metadata, credentials, wait_for_ready, compression)\u001b[39m\n\u001b[32m   1192\u001b[39m (\n\u001b[32m   1193\u001b[39m     state,\n\u001b[32m   1194\u001b[39m     call,\n\u001b[32m   1195\u001b[39m ) = \u001b[38;5;28mself\u001b[39m._blocking(\n\u001b[32m   1196\u001b[39m     request, timeout, metadata, credentials, wait_for_ready, compression\n\u001b[32m   1197\u001b[39m )\n\u001b[32m-> \u001b[39m\u001b[32m1198\u001b[39m \u001b[38;5;28;01mreturn\u001b[39;00m \u001b[43m_end_unary_response_blocking\u001b[49m\u001b[43m(\u001b[49m\u001b[43mstate\u001b[49m\u001b[43m,\u001b[49m\u001b[43m \u001b[49m\u001b[43mcall\u001b[49m\u001b[43m,\u001b[49m\u001b[43m \u001b[49m\u001b[38;5;28;43;01mTrue\u001b[39;49;00m\u001b[43m,\u001b[49m\u001b[43m \u001b[49m\u001b[38;5;28;43;01mNone\u001b[39;49;00m\u001b[43m)\u001b[49m\n",
      "\u001b[36mFile \u001b[39m\u001b[32m~/code/adk/roborock-s8-agent/.venv/lib/python3.11/site-packages/grpc/_channel.py:1006\u001b[39m, in \u001b[36m_end_unary_response_blocking\u001b[39m\u001b[34m(state, call, with_call, deadline)\u001b[39m\n\u001b[32m   1005\u001b[39m \u001b[38;5;28;01melse\u001b[39;00m:\n\u001b[32m-> \u001b[39m\u001b[32m1006\u001b[39m     \u001b[38;5;28;01mraise\u001b[39;00m _InactiveRpcError(state)\n",
      "\u001b[31m_InactiveRpcError\u001b[39m: <_InactiveRpcError of RPC that terminated with:\n\tstatus = StatusCode.UNAVAILABLE\n\tdetails = \"Getting metadata from plugin failed with error: Reauthentication is needed. Please run `gcloud auth application-default login` to reauthenticate.\"\n\tdebug_error_string = \"UNKNOWN:Error received from peer  {grpc_message:\"Getting metadata from plugin failed with error: Reauthentication is needed. Please run `gcloud auth application-default login` to reauthenticate.\", grpc_status:14}\"\n>",
      "\nThe above exception was the direct cause of the following exception:\n",
      "\u001b[31mServiceUnavailable\u001b[39m                        Traceback (most recent call last)",
      "\u001b[36mCell\u001b[39m\u001b[36m \u001b[39m\u001b[32mIn[32]\u001b[39m\u001b[32m, line 8\u001b[39m\n\u001b[32m      1\u001b[39m \u001b[38;5;66;03m#!gcloud auth application-default login --project {project_id}\u001b[39;00m\n\u001b[32m      2\u001b[39m \u001b[38;5;66;03m#!gcloud config list project\u001b[39;00m\n\u001b[32m      6\u001b[39m \u001b[38;5;28;01mfrom\u001b[39;00m\u001b[38;5;250m \u001b[39m\u001b[34;01mvertexai\u001b[39;00m\u001b[38;5;250m \u001b[39m\u001b[38;5;28;01mimport\u001b[39;00m agent_engines\n\u001b[32m----> \u001b[39m\u001b[32m8\u001b[39m remote_app = \u001b[43magent_engines\u001b[49m\u001b[43m.\u001b[49m\u001b[43mcreate\u001b[49m\u001b[43m(\u001b[49m\n\u001b[32m      9\u001b[39m \u001b[43m    \u001b[49m\u001b[43magent_engine\u001b[49m\u001b[43m=\u001b[49m\u001b[43mroot_agent\u001b[49m\u001b[43m,\u001b[49m\n\u001b[32m     10\u001b[39m \u001b[43m    \u001b[49m\u001b[43mrequirements\u001b[49m\u001b[43m=\u001b[49m\u001b[43m[\u001b[49m\n\u001b[32m     11\u001b[39m \u001b[43m        \u001b[49m\u001b[33;43m\"\u001b[39;49m\u001b[33;43mgoogle-cloud-aiplatform[adk,agent_engines]\u001b[39;49m\u001b[33;43m\"\u001b[39;49m\u001b[43m,\u001b[49m\n\u001b[32m     12\u001b[39m \u001b[43m        \u001b[49m\u001b[33;43m\"\u001b[39;49m\u001b[33;43mpython-roborock\u001b[39;49m\u001b[33;43m\"\u001b[39;49m\u001b[43m   \u001b[49m\n\u001b[32m     13\u001b[39m \u001b[43m    \u001b[49m\u001b[43m]\u001b[49m\u001b[43m,\u001b[49m\n\u001b[32m     14\u001b[39m \u001b[43m    \u001b[49m\u001b[43mdisplay_name\u001b[49m\u001b[43m=\u001b[49m\u001b[33;43m\"\u001b[39;49m\u001b[33;43mRoborock Agent 1\u001b[39;49m\u001b[33;43m\"\u001b[39;49m\u001b[43m,\u001b[49m\n\u001b[32m     15\u001b[39m \u001b[43m    \u001b[49m\u001b[43mdescription\u001b[49m\u001b[43m=\u001b[49m\u001b[33;43m\"\u001b[39;49m\u001b[33;43mThe Roborock Agent can control and get the status for the Roborock Vacuum\u001b[39;49m\u001b[33;43m\"\u001b[39;49m\u001b[43m,\u001b[49m\n\u001b[32m     16\u001b[39m \u001b[43m    \u001b[49m\u001b[38;5;66;43;03m#gcs_dir_name=get_env_var(\"GOOGLE_CLOUD_STORAGE_BUCKET\")\u001b[39;49;00m\n\u001b[32m     17\u001b[39m \u001b[43m)\u001b[49m\n",
      "\u001b[36mFile \u001b[39m\u001b[32m~/code/adk/roborock-s8-agent/.venv/lib/python3.11/site-packages/vertexai/agent_engines/__init__.py:146\u001b[39m, in \u001b[36mcreate\u001b[39m\u001b[34m(agent_engine, requirements, display_name, description, gcs_dir_name, extra_packages, env_vars)\u001b[39m\n\u001b[32m     60\u001b[39m \u001b[38;5;28;01mdef\u001b[39;00m\u001b[38;5;250m \u001b[39m\u001b[34mcreate\u001b[39m(\n\u001b[32m     61\u001b[39m     agent_engine: Optional[Union[Queryable, OperationRegistrable]] = \u001b[38;5;28;01mNone\u001b[39;00m,\n\u001b[32m     62\u001b[39m     *,\n\u001b[32m   (...)\u001b[39m\u001b[32m     70\u001b[39m     ] = \u001b[38;5;28;01mNone\u001b[39;00m,\n\u001b[32m     71\u001b[39m ) -> AgentEngine:\n\u001b[32m     72\u001b[39m \u001b[38;5;250m    \u001b[39m\u001b[33;03m\"\"\"Creates a new Agent Engine.\u001b[39;00m\n\u001b[32m     73\u001b[39m \n\u001b[32m     74\u001b[39m \u001b[33;03m    The Agent Engine will be an instance of the `agent_engine` that\u001b[39;00m\n\u001b[32m   (...)\u001b[39m\u001b[32m    144\u001b[39m \u001b[33;03m        nonexistent file.\u001b[39;00m\n\u001b[32m    145\u001b[39m \u001b[33;03m    \"\"\"\u001b[39;00m\n\u001b[32m--> \u001b[39m\u001b[32m146\u001b[39m     \u001b[38;5;28;01mreturn\u001b[39;00m \u001b[43mAgentEngine\u001b[49m\u001b[43m.\u001b[49m\u001b[43mcreate\u001b[49m\u001b[43m(\u001b[49m\n\u001b[32m    147\u001b[39m \u001b[43m        \u001b[49m\u001b[43magent_engine\u001b[49m\u001b[43m=\u001b[49m\u001b[43magent_engine\u001b[49m\u001b[43m,\u001b[49m\n\u001b[32m    148\u001b[39m \u001b[43m        \u001b[49m\u001b[43mrequirements\u001b[49m\u001b[43m=\u001b[49m\u001b[43mrequirements\u001b[49m\u001b[43m,\u001b[49m\n\u001b[32m    149\u001b[39m \u001b[43m        \u001b[49m\u001b[43mdisplay_name\u001b[49m\u001b[43m=\u001b[49m\u001b[43mdisplay_name\u001b[49m\u001b[43m,\u001b[49m\n\u001b[32m    150\u001b[39m \u001b[43m        \u001b[49m\u001b[43mdescription\u001b[49m\u001b[43m=\u001b[49m\u001b[43mdescription\u001b[49m\u001b[43m,\u001b[49m\n\u001b[32m    151\u001b[39m \u001b[43m        \u001b[49m\u001b[43mgcs_dir_name\u001b[49m\u001b[43m=\u001b[49m\u001b[43mgcs_dir_name\u001b[49m\u001b[43m,\u001b[49m\n\u001b[32m    152\u001b[39m \u001b[43m        \u001b[49m\u001b[43mextra_packages\u001b[49m\u001b[43m=\u001b[49m\u001b[43mextra_packages\u001b[49m\u001b[43m,\u001b[49m\n\u001b[32m    153\u001b[39m \u001b[43m        \u001b[49m\u001b[43menv_vars\u001b[49m\u001b[43m=\u001b[49m\u001b[43menv_vars\u001b[49m\u001b[43m,\u001b[49m\n\u001b[32m    154\u001b[39m \u001b[43m    \u001b[49m\u001b[43m)\u001b[49m\n",
      "\u001b[36mFile \u001b[39m\u001b[32m~/code/adk/roborock-s8-agent/.venv/lib/python3.11/site-packages/vertexai/agent_engines/_agent_engines.py:412\u001b[39m, in \u001b[36mAgentEngine.create\u001b[39m\u001b[34m(cls, agent_engine, requirements, display_name, description, gcs_dir_name, extra_packages, env_vars)\u001b[39m\n\u001b[32m    410\u001b[39m     agent_engine_spec.class_methods.extend(class_methods_spec)\n\u001b[32m    411\u001b[39m     reasoning_engine.spec = agent_engine_spec\n\u001b[32m--> \u001b[39m\u001b[32m412\u001b[39m operation_future = \u001b[43msdk_resource\u001b[49m\u001b[43m.\u001b[49m\u001b[43mapi_client\u001b[49m\u001b[43m.\u001b[49m\u001b[43mcreate_reasoning_engine\u001b[49m\u001b[43m(\u001b[49m\n\u001b[32m    413\u001b[39m \u001b[43m    \u001b[49m\u001b[43mparent\u001b[49m\u001b[43m=\u001b[49m\u001b[43minitializer\u001b[49m\u001b[43m.\u001b[49m\u001b[43mglobal_config\u001b[49m\u001b[43m.\u001b[49m\u001b[43mcommon_location_path\u001b[49m\u001b[43m(\u001b[49m\n\u001b[32m    414\u001b[39m \u001b[43m        \u001b[49m\u001b[43mproject\u001b[49m\u001b[43m=\u001b[49m\u001b[43msdk_resource\u001b[49m\u001b[43m.\u001b[49m\u001b[43mproject\u001b[49m\u001b[43m,\u001b[49m\u001b[43m \u001b[49m\u001b[43mlocation\u001b[49m\u001b[43m=\u001b[49m\u001b[43msdk_resource\u001b[49m\u001b[43m.\u001b[49m\u001b[43mlocation\u001b[49m\n\u001b[32m    415\u001b[39m \u001b[43m    \u001b[49m\u001b[43m)\u001b[49m\u001b[43m,\u001b[49m\n\u001b[32m    416\u001b[39m \u001b[43m    \u001b[49m\u001b[43mreasoning_engine\u001b[49m\u001b[43m=\u001b[49m\u001b[43mreasoning_engine\u001b[49m\u001b[43m,\u001b[49m\n\u001b[32m    417\u001b[39m \u001b[43m\u001b[49m\u001b[43m)\u001b[49m\n\u001b[32m    418\u001b[39m _LOGGER.log_create_with_lro(\u001b[38;5;28mcls\u001b[39m, operation_future)\n\u001b[32m    419\u001b[39m _LOGGER.info(\n\u001b[32m    420\u001b[39m     \u001b[33mf\u001b[39m\u001b[33m\"\u001b[39m\u001b[33mView progress and logs at https://console.cloud.google.com/logs/query?project=\u001b[39m\u001b[38;5;132;01m{\u001b[39;00msdk_resource.project\u001b[38;5;132;01m}\u001b[39;00m\u001b[33m\"\u001b[39m\n\u001b[32m    421\u001b[39m )\n",
      "\u001b[36mFile \u001b[39m\u001b[32m~/code/adk/roborock-s8-agent/.venv/lib/python3.11/site-packages/google/cloud/aiplatform_v1/services/reasoning_engine_service/client.py:892\u001b[39m, in \u001b[36mReasoningEngineServiceClient.create_reasoning_engine\u001b[39m\u001b[34m(self, request, parent, reasoning_engine, retry, timeout, metadata)\u001b[39m\n\u001b[32m    889\u001b[39m \u001b[38;5;28mself\u001b[39m._validate_universe_domain()\n\u001b[32m    891\u001b[39m \u001b[38;5;66;03m# Send the request.\u001b[39;00m\n\u001b[32m--> \u001b[39m\u001b[32m892\u001b[39m response = \u001b[43mrpc\u001b[49m\u001b[43m(\u001b[49m\n\u001b[32m    893\u001b[39m \u001b[43m    \u001b[49m\u001b[43mrequest\u001b[49m\u001b[43m,\u001b[49m\n\u001b[32m    894\u001b[39m \u001b[43m    \u001b[49m\u001b[43mretry\u001b[49m\u001b[43m=\u001b[49m\u001b[43mretry\u001b[49m\u001b[43m,\u001b[49m\n\u001b[32m    895\u001b[39m \u001b[43m    \u001b[49m\u001b[43mtimeout\u001b[49m\u001b[43m=\u001b[49m\u001b[43mtimeout\u001b[49m\u001b[43m,\u001b[49m\n\u001b[32m    896\u001b[39m \u001b[43m    \u001b[49m\u001b[43mmetadata\u001b[49m\u001b[43m=\u001b[49m\u001b[43mmetadata\u001b[49m\u001b[43m,\u001b[49m\n\u001b[32m    897\u001b[39m \u001b[43m\u001b[49m\u001b[43m)\u001b[49m\n\u001b[32m    899\u001b[39m \u001b[38;5;66;03m# Wrap the response in an operation future.\u001b[39;00m\n\u001b[32m    900\u001b[39m response = gac_operation.from_gapic(\n\u001b[32m    901\u001b[39m     response,\n\u001b[32m    902\u001b[39m     \u001b[38;5;28mself\u001b[39m._transport.operations_client,\n\u001b[32m    903\u001b[39m     gca_reasoning_engine.ReasoningEngine,\n\u001b[32m    904\u001b[39m     metadata_type=reasoning_engine_service.CreateReasoningEngineOperationMetadata,\n\u001b[32m    905\u001b[39m )\n",
      "\u001b[36mFile \u001b[39m\u001b[32m~/code/adk/roborock-s8-agent/.venv/lib/python3.11/site-packages/google/api_core/gapic_v1/method.py:131\u001b[39m, in \u001b[36m_GapicCallable.__call__\u001b[39m\u001b[34m(self, timeout, retry, compression, *args, **kwargs)\u001b[39m\n\u001b[32m    128\u001b[39m \u001b[38;5;28;01mif\u001b[39;00m \u001b[38;5;28mself\u001b[39m._compression \u001b[38;5;129;01mis\u001b[39;00m \u001b[38;5;129;01mnot\u001b[39;00m \u001b[38;5;28;01mNone\u001b[39;00m:\n\u001b[32m    129\u001b[39m     kwargs[\u001b[33m\"\u001b[39m\u001b[33mcompression\u001b[39m\u001b[33m\"\u001b[39m] = compression\n\u001b[32m--> \u001b[39m\u001b[32m131\u001b[39m \u001b[38;5;28;01mreturn\u001b[39;00m \u001b[43mwrapped_func\u001b[49m\u001b[43m(\u001b[49m\u001b[43m*\u001b[49m\u001b[43margs\u001b[49m\u001b[43m,\u001b[49m\u001b[43m \u001b[49m\u001b[43m*\u001b[49m\u001b[43m*\u001b[49m\u001b[43mkwargs\u001b[49m\u001b[43m)\u001b[49m\n",
      "\u001b[36mFile \u001b[39m\u001b[32m~/code/adk/roborock-s8-agent/.venv/lib/python3.11/site-packages/google/api_core/grpc_helpers.py:78\u001b[39m, in \u001b[36m_wrap_unary_errors.<locals>.error_remapped_callable\u001b[39m\u001b[34m(*args, **kwargs)\u001b[39m\n\u001b[32m     76\u001b[39m     \u001b[38;5;28;01mreturn\u001b[39;00m callable_(*args, **kwargs)\n\u001b[32m     77\u001b[39m \u001b[38;5;28;01mexcept\u001b[39;00m grpc.RpcError \u001b[38;5;28;01mas\u001b[39;00m exc:\n\u001b[32m---> \u001b[39m\u001b[32m78\u001b[39m     \u001b[38;5;28;01mraise\u001b[39;00m exceptions.from_grpc_error(exc) \u001b[38;5;28;01mfrom\u001b[39;00m\u001b[38;5;250m \u001b[39m\u001b[34;01mexc\u001b[39;00m\n",
      "\u001b[31mServiceUnavailable\u001b[39m: 503 Getting metadata from plugin failed with error: Reauthentication is needed. Please run `gcloud auth application-default login` to reauthenticate."
     ]
    }
   ],
   "source": [
    "#!gcloud auth application-default login --project {project_id}\n",
    "#!gcloud config list project\n",
    "\n",
    "\n",
    "from google.colab import auth\n",
    "auth.authenticate_user(project_id=PROJECT_ID)\n",
    "\n",
    "from vertexai import agent_engines\n",
    "\n",
    "remote_app = agent_engines.create(\n",
    "    agent_engine=root_agent,\n",
    "    requirements=[\n",
    "        \"google-cloud-aiplatform[adk,agent_engines]\",\n",
    "        \"python-roborock\"   \n",
    "    ],\n",
    "    display_name=\"Roborock Agent 1\",\n",
    "    description=\"The Roborock Agent can control and get the status for the Roborock Vacuum\",\n",
    "    #gcs_dir_name=get_env_var(\"GOOGLE_CLOUD_STORAGE_BUCKET\")\n",
    ")"
   ]
  },
  {
   "cell_type": "code",
   "execution_count": 30,
   "id": "b2ee6a4b",
   "metadata": {},
   "outputs": [
    {
     "ename": "NameError",
     "evalue": "name 'remote_app' is not defined",
     "output_type": "error",
     "traceback": [
      "\u001b[31m---------------------------------------------------------------------------\u001b[39m",
      "\u001b[31mNameError\u001b[39m                                 Traceback (most recent call last)",
      "\u001b[36mCell\u001b[39m\u001b[36m \u001b[39m\u001b[32mIn[30]\u001b[39m\u001b[32m, line 1\u001b[39m\n\u001b[32m----> \u001b[39m\u001b[32m1\u001b[39m \u001b[43mremote_app\u001b[49m.resource_name\n",
      "\u001b[31mNameError\u001b[39m: name 'remote_app' is not defined"
     ]
    }
   ],
   "source": [
    "remote_app.resource_name"
   ]
  },
  {
   "cell_type": "code",
   "execution_count": 28,
   "id": "dca44345",
   "metadata": {},
   "outputs": [
    {
     "data": {
      "text/plain": [
       "{'last_update_time': 1747937006.029384,\n",
       " 'id': '7899221937186930688',\n",
       " 'app_name': '6774583719937179648',\n",
       " 'state': {},\n",
       " 'events': [],\n",
       " 'user_id': 'u_456'}"
      ]
     },
     "execution_count": 28,
     "metadata": {},
     "output_type": "execute_result"
    }
   ],
   "source": [
    "remote_session = remote_app.create_session(user_id=\"u_456\")\n",
    "remote_session"
   ]
  },
  {
   "cell_type": "code",
   "execution_count": 29,
   "id": "b940594c",
   "metadata": {},
   "outputs": [
    {
     "data": {
      "text/plain": [
       "{'sessions': [{'app_name': '6774583719937179648',\n",
       "   'id': '7899221937186930688',\n",
       "   'last_update_time': 1747937006.029384,\n",
       "   'events': [],\n",
       "   'state': {},\n",
       "   'user_id': 'u_456'}]}"
      ]
     },
     "execution_count": 29,
     "metadata": {},
     "output_type": "execute_result"
    }
   ],
   "source": [
    "remote_app.list_sessions(user_id=\"u_456\")"
   ]
  },
  {
   "cell_type": "code",
   "execution_count": 30,
   "id": "06223c35",
   "metadata": {},
   "outputs": [
    {
     "data": {
      "text/plain": [
       "{'app_name': '6774583719937179648',\n",
       " 'id': '7899221937186930688',\n",
       " 'last_update_time': 1747937006.029384,\n",
       " 'events': [],\n",
       " 'state': {},\n",
       " 'user_id': 'u_456'}"
      ]
     },
     "execution_count": 30,
     "metadata": {},
     "output_type": "execute_result"
    }
   ],
   "source": [
    "remote_app.get_session(user_id=\"u_456\", session_id=remote_session[\"id\"])"
   ]
  },
  {
   "cell_type": "code",
   "execution_count": 31,
   "id": "1d1734f6",
   "metadata": {},
   "outputs": [
    {
     "name": "stdout",
     "output_type": "stream",
     "text": [
      "{'content': {'parts': [{'function_call': {'id': 'adk-5fd81692-ab97-434b-9e4b-80556bc71f1d', 'args': {}, 'name': 'get_status'}}], 'role': 'model'}, 'invocation_id': 'e-ef1b446f-cfe7-48e1-8d21-8805c7d0879e', 'author': 'Roborock_Agent', 'actions': {'state_delta': {}, 'artifact_delta': {}, 'requested_auth_configs': {}}, 'long_running_tool_ids': [], 'id': 'cUacl69X', 'timestamp': 1747937024.315067}\n",
      "{'content': {'parts': [{'function_response': {'id': 'adk-5fd81692-ab97-434b-9e4b-80556bc71f1d', 'name': 'get_status', 'response': {'state': 'charging', 'battery': 100, 'clean_time': 425, 'clean_area': 6.4, 'error': 'none', 'fan_speed': 'max', 'mop_mode': 'standard', 'docked': True}}}], 'role': 'user'}, 'invocation_id': 'e-ef1b446f-cfe7-48e1-8d21-8805c7d0879e', 'author': 'Roborock_Agent', 'actions': {'state_delta': {}, 'artifact_delta': {}, 'requested_auth_configs': {}}, 'id': 'M9aQfDKH', 'timestamp': 1747937028.450545}\n",
      "{'content': {'parts': [{'text': 'The Roborock is currently charging, with a battery level of 100%. It has cleaned an area of 6.4 square meters in 425 seconds. The fan speed is set to max, and the mop mode is standard. The device is currently docked and there is no error.\\n'}], 'role': 'model'}, 'invocation_id': 'e-ef1b446f-cfe7-48e1-8d21-8805c7d0879e', 'author': 'Roborock_Agent', 'actions': {'state_delta': {}, 'artifact_delta': {}, 'requested_auth_configs': {}}, 'id': 'INOAr2yD', 'timestamp': 1747937028.502234}\n"
     ]
    }
   ],
   "source": [
    "for event in remote_app.stream_query(\n",
    "    user_id=\"u_456\",\n",
    "    session_id=remote_session[\"id\"],\n",
    "    message=\"get the status\",\n",
    "):\n",
    "    print(event)"
   ]
  },
  {
   "cell_type": "code",
   "execution_count": null,
   "id": "e8558473",
   "metadata": {},
   "outputs": [
    {
     "name": "stdout",
     "output_type": "stream",
     "text": [
      "{\n",
      "  \"name\": \"projects/850217602120/locations/global/collections/default_collection/engines/argolis-agentspace-jeffd_1747939249860/assistants/default_assistant/agents/7760300495693784793\",\n",
      "  \"displayName\": \"Roborock Agent 1\",\n",
      "  \"description\": \"This agent can control and get the status of a Roborock Vacuum\",\n",
      "  \"adkAgentDefinition\": {\n",
      "    \"toolSettings\": {\n",
      "      \"toolDescription\": \"This agent can control and get the status of a Roborock Vacuum\"\n",
      "    },\n",
      "    \"provisionedReasoningEngine\": {\n",
      "      \"reasoningEngine\": \"projects/850217602120/locations/us-central1/reasoningEngines/6774583719937179648\"\n",
      "    }\n",
      "  },\n",
      "  \"state\": \"CONFIGURED\"\n",
      "}\n"
     ]
    }
   ],
   "source": [
    "\n",
    "!curl -X POST \\\n",
    "    -H \"Content-Type: application/json\" \\\n",
    "    -H \"Authorization: Bearer $(gcloud auth print-access-token)\" \\\n",
    "    -H \"X-Goog-User-Project: fine-tuning-webinar\" \\\n",
    "\"https://discoveryengine.googleapis.com/v1alpha/projects/fine-tuning-webinar/locations/global/collections/default_collection/engines/argolis-agentspace-jeffd_1747939249860/assistants/default_assistant/agents\" \\\n",
    "-d '{ \\\n",
    "        \"displayName\": \"Roborock Agent 1\", \\\n",
    "        \"description\": \"This agent can control and get the status of a Roborock Vacuum\", \\\n",
    "        \"adk_agent_definition\": { \\\n",
    "            \"tool_settings\": { \\\n",
    "                \"tool_description\": \"This agent can control and get the status of a Roborock Vacuum\" \\\n",
    "            }, \\\n",
    "            \"provisioned_reasoning_engine\": { \\\n",
    "                \"reasoning_engine\":f\"{engine_id}\" \\\n",
    "            }, \\\n",
    "        } \\\n",
    "}'"
   ]
  }
 ],
 "metadata": {
  "kernelspec": {
   "display_name": ".venv",
   "language": "python",
   "name": "python3"
  },
  "language_info": {
   "codemirror_mode": {
    "name": "ipython",
    "version": 3
   },
   "file_extension": ".py",
   "mimetype": "text/x-python",
   "name": "python",
   "nbconvert_exporter": "python",
   "pygments_lexer": "ipython3",
   "version": "3.11.2"
  }
 },
 "nbformat": 4,
 "nbformat_minor": 5
}
