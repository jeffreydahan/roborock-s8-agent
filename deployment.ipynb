{
  "cells": [
    {
      "cell_type": "code",
      "execution_count": null,
      "id": "0139dd8b",
      "metadata": {
        "collapsed": true,
        "id": "0139dd8b"
      },
      "outputs": [],
      "source": [
        "!pip install python-roborock\n",
        "!pip install google-cloud-aiplatform[adk,agent_engines]\n"
      ]
    },
    {
      "cell_type": "code",
      "execution_count": null,
      "id": "eac697b2",
      "metadata": {
        "id": "eac697b2"
      },
      "outputs": [],
      "source": [
        "from dotenv import load_dotenv\n",
        "\n",
        "load_dotenv()\n"
      ]
    },
    {
      "cell_type": "code",
      "execution_count": 2,
      "id": "6b34a895",
      "metadata": {
        "id": "6b34a895"
      },
      "outputs": [],
      "source": [
        "\n",
        "from google.adk.agents import Agent\n",
        "import vertexai\n",
        "\n",
        "# Import Roborock libraries\n",
        "from roborock import HomeDataProduct, DeviceData, RoborockCommand\n",
        "from roborock.version_1_apis import RoborockMqttClientV1, RoborockLocalClientV1\n",
        "from roborock.web_api import RoborockApiClient\n",
        "\n"
      ]
    },
    {
      "cell_type": "code",
      "execution_count": 3,
      "id": "bfde28a6",
      "metadata": {
        "id": "bfde28a6"
      },
      "outputs": [],
      "source": [
        "# Global variables to hold the MQTT client and device\n",
        "mqtt_client = None\n",
        "device = None\n",
        "\n",
        "# Helper function to get environment variables\n",
        "def get_env_var(key):\n",
        "    value = os.getenv(key)\n",
        "    if value is None:\n",
        "        raise ValueError(f\"Environment variable '{key}' not found.\")\n",
        "    return value\n",
        "\n",
        "# Login to Roborock (will only run if mqtt_client is None)\n",
        "async def ensure_login():\n",
        "    global mqtt_client\n",
        "    global device\n",
        "    if mqtt_client is None:\n",
        "        try:\n",
        "            web_api = RoborockApiClient(username=get_env_var('ROBOROCK_USERNAME'))\n",
        "            user_data = await web_api.pass_login(password=get_env_var('ROBOROCK_PASSWORD'))\n",
        "            home_data = await web_api.get_home_data_v2(user_data)\n",
        "            device_data = home_data.devices[0]\n",
        "            product_info: dict[str, HomeDataProduct] = {\n",
        "                product.id: product for product in home_data.products\n",
        "            }\n",
        "            device = DeviceData(device_data, product_info[device_data.product_id].model)\n",
        "            mqtt_client = RoborockMqttClientV1(user_data, device)\n",
        "            await mqtt_client.async_connect()\n",
        "            print(\"Roborock login successful.\")\n",
        "            return True\n",
        "        except Exception as e:\n",
        "            print(f\"Roborock login failed: {e}\")\n",
        "            mqtt_client = None\n",
        "            device = None\n",
        "            return False\n",
        "    return True\n",
        "\n",
        "# Resets Roborock login and session\n",
        "async def reset_connection():\n",
        "    global mqtt_client\n",
        "    global device\n",
        "    if mqtt_client:\n",
        "        try:\n",
        "            await mqtt_client.async_disconnect()\n",
        "            print(\"MQTT client disconnected.\")\n",
        "        except Exception as e:\n",
        "            print(f\"Error disconnecting MQTT client: {e}\")\n",
        "        finally:\n",
        "            mqtt_client = None\n",
        "            device = None\n",
        "            print(\"Roborock connection reset.\")\n",
        "\n",
        "# Get Roborock status\n",
        "async def get_status():\n",
        "    if not await ensure_login():\n",
        "        return {\"error\": \"Not logged in to Roborock.\"}\n",
        "    try:\n",
        "        status = await mqtt_client.get_status()\n",
        "        print(\"Current Status:\")\n",
        "        print(status)\n",
        "        return {\n",
        "            \"state\": status.state_name,\n",
        "            \"battery\": status.battery,\n",
        "            \"clean_time\": status.clean_time,\n",
        "            \"clean_area\": status.square_meter_clean_area,\n",
        "            \"error\": status.error_code_name,\n",
        "            \"fan_speed\": status.fan_power_name,\n",
        "            \"mop_mode\": status.mop_mode_name,\n",
        "            \"docked\": status.state_name == \"charging\"\n",
        "        }\n",
        "    except Exception as e:\n",
        "        print(f\"Error getting status: {e}\")\n",
        "        await reset_connection()\n",
        "        return {\"error\": f\"Error getting status: {e}. Connection reset.\"}\n",
        "\n",
        "# Send basic Roborock commands that don't have parameters\n",
        "async def send_basic_command(command: str) -> str:\n",
        "    if not await ensure_login():\n",
        "        return {\"error\": \"Not logged in to Roborock.\"}\n",
        "    try:\n",
        "        await mqtt_client.send_command(command)\n",
        "        print(f\"Command sent: {command}\")\n",
        "        return {\"result\": f\"Command {command} sent successfully.\"}\n",
        "    except Exception as e:\n",
        "        print(f\"Error sending {command}: {e}\")\n",
        "        await reset_connection()\n",
        "        return {\"error\": f\"Error sending {command}: {e}. Connection reset.\"}\n",
        "\n",
        "# cleans a specific room also known as segment. To Do is to make this dynamic based upon desired segment from instructions mapping in the Agent definition below.\n",
        "async def app_segment_clean(segment_number: dict) -> str:\n",
        "    if not await ensure_login():\n",
        "        return {\"error\": \"Not logged in to Roborock.\"}\n",
        "    command = \"app_segment_clean\"\n",
        "    try:\n",
        "        segment = await mqtt_client.send_command(command, [{\"segments\": segment_number, \"repeat\": 1}])\n",
        "        print(f\"Command sent: {command}\")\n",
        "        return segment\n",
        "    except Exception as e:\n",
        "        print(f\"Error sending {command}: {e}\")\n",
        "        await reset_connection()\n",
        "        return {\"error\": f\"Error sending {command}: {e}. Connection reset.\"}\n"
      ]
    },
    {
      "cell_type": "code",
      "execution_count": 4,
      "id": "d3691ef8",
      "metadata": {
        "id": "d3691ef8"
      },
      "outputs": [],
      "source": [
        "# root agent definition\n",
        "root_agent =  Agent(\n",
        "    name=\"Roborock_Agent\", # ensure no spaces here\n",
        "    # model=\"gemini-2.0-flash-exp\", # for live api\n",
        "    model=\"gemini-2.0-flash\",\n",
        "    description=\"Agent to control and get status of your Roborock vacuum\",\n",
        "    # natural language instruction set which explains to the agent its capabilities and how to operate\n",
        "    instruction=\"\"\"I can control and get the status of your Roborock vacuum.\n",
        "        I can handle the following commands:\n",
        "        - get_status (this command gets the current status of the Roborock)\n",
        "        when the above command is needed, call the get_status function\n",
        "\n",
        "        Additional commands.  Use the send_basic_command function for these commands\n",
        "        - app_charge (this command sends the Roborock back to the dock)\n",
        "        - app_start_wash (this command starts the washing of the mop while docked)\n",
        "        - app_stop_wash (this command stops the washing of the mop while docked)\n",
        "        - app_start (this command starts vacuuming and mopping job)\n",
        "        - app_stop (this command stops the vacuuming and mopping job)\n",
        "        - app_pause (this command pauses the vacuuming and mopping job)\n",
        "        - app_start_collect_dust (this command starts emptying the dust bin)\n",
        "        - app_stop_collect_dust (this command stops emptying the dust bin)\n",
        "        - get_room_mapping (gets a list of the rooms in a map)\n",
        "\n",
        "        when the above commands are needed, call send_basic_command(command).  Examples:\n",
        "        - for app_start_wash call send_basic_command(\"app_start_wash\")\n",
        "        - for app_stop_wash call send_bacic_command(\"app_stop_wash\")\n",
        "\n",
        "        Additional commands:\n",
        "        - app_segment_clean (this command starts cleaning rooms or segments)\n",
        "        - for this command, use the function app_segment_clean function\n",
        "        - when using this command, you must pass a segment number from the mapping below as a list of integers.\n",
        "        - For example, for a request to clean Bedroom4, you would call:\n",
        "        app_segment_clean([16])\n",
        "        - if multiple rooms are specified,\n",
        "        app_segment_clean([16,18])\n",
        "\n",
        "\n",
        "        Segment mapping:\n",
        "        16 = Bedroom4\n",
        "        17 = Balcony\n",
        "        18 = Bedroom3\n",
        "        19 = Bathroom\n",
        "        20 = Hallway\n",
        "        21 = Kitchen\n",
        "        22 = Dining Room\n",
        "        23 = Entryway\n",
        "        24 = Bedroom1\n",
        "        25 = Bedroom2\n",
        "        26 = Living Room\n",
        "\n",
        "        ***Finally, format the status as a nice table***\n",
        "\n",
        "        \"\"\",\n",
        "    # tells the agent what tools (function names from above) it has access to. The agent uses the instructions above to understand how and when to use these tools.\n",
        "    tools=[\n",
        "        get_status,\n",
        "        send_basic_command,\n",
        "        app_segment_clean,\n",
        "    ],\n",
        ")"
      ]
    },
    {
      "cell_type": "code",
      "execution_count": 10,
      "id": "d0532c5a",
      "metadata": {
        "id": "d0532c5a"
      },
      "outputs": [],
      "source": [
        "# Global variables to hold the MQTT client and device\n",
        "mqtt_client = None\n",
        "device = None\n",
        "\n",
        "import os\n",
        "\n",
        "# Helper function to get environment variables\n",
        "def get_env_var(key):\n",
        "    value = os.getenv(key)\n",
        "    if value is None:\n",
        "        raise ValueError(f\"Environment variable '{key}' not found.\")\n",
        "    return value\n",
        "\n",
        "project_id=get_env_var(\"GOOGLE_CLOUD_PROJECT\")\n",
        "staging_bucket=get_env_var(\"GOOGLE_CLOUD_STORAGE_BUCKET\")\n",
        "location=get_env_var(\"GOOGLE_CLOUD_LOCATION\")\n",
        "\n",
        "# initialitze vertexai\n",
        "vertexai.init(\n",
        "    project=project_id,\n",
        "    location=location,\n",
        "    staging_bucket=staging_bucket,\n",
        ")\n"
      ]
    },
    {
      "cell_type": "code",
      "execution_count": null,
      "id": "194ccca4",
      "metadata": {
        "id": "194ccca4"
      },
      "outputs": [],
      "source": [
        "from vertexai.preview import reasoning_engines\n",
        "\n",
        "app = reasoning_engines.AdkApp(\n",
        "    agent=root_agent,\n",
        "    enable_tracing=True,\n",
        ")"
      ]
    },
    {
      "cell_type": "code",
      "execution_count": null,
      "id": "125ea532",
      "metadata": {
        "id": "125ea532"
      },
      "outputs": [],
      "source": [
        "#!gcloud auth application-default login --project {project_id}\n",
        "#!gcloud config list project\n",
        "\n",
        "\n",
        "from google.colab import auth\n",
        "auth.authenticate_user(project_id=project_id)\n",
        "\n",
        "from vertexai import agent_engines\n",
        "\n",
        "remote_app = agent_engines.create(\n",
        "    agent_engine=root_agent,\n",
        "    requirements=[\n",
        "        \"google-cloud-aiplatform[adk,agent_engines]\",\n",
        "        \"python-roborock\"\n",
        "    ],\n",
        "    display_name=\"Roborock Agent 1\",\n",
        "    description=\"The Roborock Agent can control and get the status for the Roborock Vacuum\",\n",
        ")"
      ]
    },
    {
      "cell_type": "code",
      "execution_count": null,
      "id": "b2ee6a4b",
      "metadata": {
        "id": "b2ee6a4b"
      },
      "outputs": [],
      "source": [
        "remote_app_resource_name = remote_app.resource_name\n",
        "remote_app_resource_name"
      ]
    },
    {
      "cell_type": "code",
      "execution_count": null,
      "id": "dca44345",
      "metadata": {
        "id": "dca44345"
      },
      "outputs": [],
      "source": [
        "user_id = \"u_457\"\n",
        "\n",
        "remote_session = remote_app.create_session(user_id=user_id)\n",
        "remote_session"
      ]
    },
    {
      "cell_type": "code",
      "execution_count": null,
      "id": "b940594c",
      "metadata": {
        "id": "b940594c"
      },
      "outputs": [],
      "source": [
        "remote_app.list_sessions(user_id=user_id)"
      ]
    },
    {
      "cell_type": "code",
      "execution_count": null,
      "id": "06223c35",
      "metadata": {
        "id": "06223c35"
      },
      "outputs": [],
      "source": [
        "session_object = remote_app.get_session(user_id=user_id, session_id=remote_session[\"id\"])\n",
        "session_object"
      ]
    },
    {
      "cell_type": "code",
      "execution_count": null,
      "id": "1d1734f6",
      "metadata": {
        "id": "1d1734f6"
      },
      "outputs": [],
      "source": [
        "remote_app = agent_engines.get(remote_app_resource_name)\n",
        "remote_app\n",
        "\n",
        "agent = agent_engines.get(remote_app_resource_name)\n",
        "agent\n",
        "\n",
        "agent.stream_query(input={\"messages\": [\n",
        "    (\"user\", \"What is the exchange rate from US dollars to Swedish currency?\")\n",
        "]})\n",
        "\n"
      ]
    },
    {
      "source": [
        "remote_app = agent_engines.get(remote_app_resource_name)\n",
        "remote_app\n",
        "\n",
        "# Assuming user_id and remote_session are still valid from previous steps\n",
        "user_id = \"u_456\" # Replace with your user_id if it's different\n",
        "# You should have a remote_session object from the create_session call\n",
        "\n",
        "# Send a query to the agent\n",
        "for event in remote_app.streaming_agent_run_with_events(\n",
        "    user_id=user_id,\n",
        "    session_id=remote_session[\"id\"], # Use the ID from your remote_session object\n",
        "    message=\"get the status\", # Your query to the agent\n",
        "):\n",
        "    print(event)"
      ],
      "cell_type": "code",
      "metadata": {
        "id": "wg5Uh55kpq7N"
      },
      "id": "wg5Uh55kpq7N",
      "execution_count": null,
      "outputs": []
    },
    {
      "cell_type": "code",
      "execution_count": null,
      "id": "e8558473",
      "metadata": {
        "id": "e8558473"
      },
      "outputs": [],
      "source": [
        "\n",
        "!curl -X POST \\\n",
        "    -H \"Content-Type: application/json\" \\\n",
        "    -H \"Authorization: Bearer $(gcloud auth print-access-token)\" \\\n",
        "    -H \"X-Goog-User-Project: fine-tuning-webinar\" \\\n",
        "\"https://discoveryengine.googleapis.com/v1alpha/projects/project_id/locations/global/collections/default_collection/engines/app_id/assistants/default_assistant/agents\" \\\n",
        "-d '{ \\\n",
        "        \"displayName\": \"Roborock Agent 1\", \\\n",
        "        \"description\": \"This agent can control and get the status of a Roborock Vacuum\", \\\n",
        "        \"adk_agent_definition\": { \\\n",
        "            \"tool_settings\": { \\\n",
        "                \"tool_description\": \"This agent can control and get the status of a Roborock Vacuum\" \\\n",
        "            }, \\\n",
        "            \"provisioned_reasoning_engine\": { \\\n",
        "                \"reasoning_engine\":f\"{engine_id}\" \\\n",
        "            }, \\\n",
        "        } \\\n",
        "}'"
      ]
    }
  ],
  "metadata": {
    "kernelspec": {
      "display_name": ".venv",
      "language": "python",
      "name": "python3"
    },
    "language_info": {
      "codemirror_mode": {
        "name": "ipython",
        "version": 3
      },
      "file_extension": ".py",
      "mimetype": "text/x-python",
      "name": "python",
      "nbconvert_exporter": "python",
      "pygments_lexer": "ipython3",
      "version": "3.11.2"
    },
    "colab": {
      "provenance": []
    }
  },
  "nbformat": 4,
  "nbformat_minor": 5
}