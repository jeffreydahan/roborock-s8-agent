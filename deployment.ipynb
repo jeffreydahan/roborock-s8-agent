{
  "cells": [
    {
      "cell_type": "code",
      "execution_count": 1,
      "id": "0139dd8b",
      "metadata": {
        "collapsed": true,
        "id": "0139dd8b",
        "outputId": "a94a7888-6987-4096-8e49-8dd153b500d1",
        "colab": {
          "base_uri": "https://localhost:8080/",
          "height": 1000
        }
      },
      "outputs": [
        {
          "output_type": "stream",
          "name": "stdout",
          "text": [
            "Collecting python-roborock\n",
            "  Downloading python_roborock-2.19.0-py3-none-any.whl.metadata (4.3 kB)\n",
            "Requirement already satisfied: aiohttp<4.0.0,>=3.8.2 in /usr/local/lib/python3.11/dist-packages (from python-roborock) (3.11.15)\n",
            "Collecting aiomqtt<3.0.0,>=2.3.2 (from python-roborock)\n",
            "  Downloading aiomqtt-2.4.0-py3-none-any.whl.metadata (4.6 kB)\n",
            "Collecting async-timeout (from python-roborock)\n",
            "  Downloading async_timeout-5.0.1-py3-none-any.whl.metadata (5.1 kB)\n",
            "Requirement already satisfied: click>=8 in /usr/local/lib/python3.11/dist-packages (from python-roborock) (8.2.0)\n",
            "Collecting construct<3.0.0,>=2.10.57 (from python-roborock)\n",
            "  Downloading construct-2.10.70-py3-none-any.whl.metadata (4.2 kB)\n",
            "Collecting paho-mqtt<3.0.0,>=1.6.1 (from python-roborock)\n",
            "  Downloading paho_mqtt-2.1.0-py3-none-any.whl.metadata (23 kB)\n",
            "Collecting pycryptodome<4.0,>=3.18 (from python-roborock)\n",
            "  Downloading pycryptodome-3.23.0-cp37-abi3-manylinux_2_17_x86_64.manylinux2014_x86_64.whl.metadata (3.4 kB)\n",
            "Collecting pyrate-limiter<4.0.0,>=3.7.0 (from python-roborock)\n",
            "  Downloading pyrate_limiter-3.7.0-py3-none-any.whl.metadata (25 kB)\n",
            "Collecting vacuum-map-parser-roborock (from python-roborock)\n",
            "  Downloading vacuum_map_parser_roborock-0.1.4-py3-none-any.whl.metadata (7.3 kB)\n",
            "Requirement already satisfied: aiohappyeyeballs>=2.3.0 in /usr/local/lib/python3.11/dist-packages (from aiohttp<4.0.0,>=3.8.2->python-roborock) (2.6.1)\n",
            "Requirement already satisfied: aiosignal>=1.1.2 in /usr/local/lib/python3.11/dist-packages (from aiohttp<4.0.0,>=3.8.2->python-roborock) (1.3.2)\n",
            "Requirement already satisfied: attrs>=17.3.0 in /usr/local/lib/python3.11/dist-packages (from aiohttp<4.0.0,>=3.8.2->python-roborock) (25.3.0)\n",
            "Requirement already satisfied: frozenlist>=1.1.1 in /usr/local/lib/python3.11/dist-packages (from aiohttp<4.0.0,>=3.8.2->python-roborock) (1.6.0)\n",
            "Requirement already satisfied: multidict<7.0,>=4.5 in /usr/local/lib/python3.11/dist-packages (from aiohttp<4.0.0,>=3.8.2->python-roborock) (6.4.3)\n",
            "Requirement already satisfied: propcache>=0.2.0 in /usr/local/lib/python3.11/dist-packages (from aiohttp<4.0.0,>=3.8.2->python-roborock) (0.3.1)\n",
            "Requirement already satisfied: yarl<2.0,>=1.17.0 in /usr/local/lib/python3.11/dist-packages (from aiohttp<4.0.0,>=3.8.2->python-roborock) (1.20.0)\n",
            "Requirement already satisfied: Pillow in /usr/local/lib/python3.11/dist-packages (from vacuum-map-parser-roborock->python-roborock) (11.2.1)\n",
            "Collecting vacuum-map-parser-base==0.1.5 (from vacuum-map-parser-roborock->python-roborock)\n",
            "  Downloading vacuum_map_parser_base-0.1.5-py3-none-any.whl.metadata (6.5 kB)\n",
            "Requirement already satisfied: idna>=2.0 in /usr/local/lib/python3.11/dist-packages (from yarl<2.0,>=1.17.0->aiohttp<4.0.0,>=3.8.2->python-roborock) (3.10)\n",
            "Downloading python_roborock-2.19.0-py3-none-any.whl (72 kB)\n",
            "\u001b[2K   \u001b[90m━━━━━━━━━━━━━━━━━━━━━━━━━━━━━━━━━━━━━━━━\u001b[0m \u001b[32m72.2/72.2 kB\u001b[0m \u001b[31m3.9 MB/s\u001b[0m eta \u001b[36m0:00:00\u001b[0m\n",
            "\u001b[?25hDownloading aiomqtt-2.4.0-py3-none-any.whl (15 kB)\n",
            "Downloading construct-2.10.70-py3-none-any.whl (63 kB)\n",
            "\u001b[2K   \u001b[90m━━━━━━━━━━━━━━━━━━━━━━━━━━━━━━━━━━━━━━━━\u001b[0m \u001b[32m63.0/63.0 kB\u001b[0m \u001b[31m4.6 MB/s\u001b[0m eta \u001b[36m0:00:00\u001b[0m\n",
            "\u001b[?25hDownloading paho_mqtt-2.1.0-py3-none-any.whl (67 kB)\n",
            "\u001b[2K   \u001b[90m━━━━━━━━━━━━━━━━━━━━━━━━━━━━━━━━━━━━━━━━\u001b[0m \u001b[32m67.2/67.2 kB\u001b[0m \u001b[31m5.1 MB/s\u001b[0m eta \u001b[36m0:00:00\u001b[0m\n",
            "\u001b[?25hDownloading pycryptodome-3.23.0-cp37-abi3-manylinux_2_17_x86_64.manylinux2014_x86_64.whl (2.3 MB)\n",
            "\u001b[2K   \u001b[90m━━━━━━━━━━━━━━━━━━━━━━━━━━━━━━━━━━━━━━━━\u001b[0m \u001b[32m2.3/2.3 MB\u001b[0m \u001b[31m35.6 MB/s\u001b[0m eta \u001b[36m0:00:00\u001b[0m\n",
            "\u001b[?25hDownloading pyrate_limiter-3.7.0-py3-none-any.whl (28 kB)\n",
            "Downloading async_timeout-5.0.1-py3-none-any.whl (6.2 kB)\n",
            "Downloading vacuum_map_parser_roborock-0.1.4-py3-none-any.whl (13 kB)\n",
            "Downloading vacuum_map_parser_base-0.1.5-py3-none-any.whl (19 kB)\n",
            "Installing collected packages: vacuum-map-parser-base, pyrate-limiter, pycryptodome, paho-mqtt, construct, async-timeout, vacuum-map-parser-roborock, aiomqtt, python-roborock\n",
            "Successfully installed aiomqtt-2.4.0 async-timeout-5.0.1 construct-2.10.70 paho-mqtt-2.1.0 pycryptodome-3.23.0 pyrate-limiter-3.7.0 python-roborock-2.19.0 vacuum-map-parser-base-0.1.5 vacuum-map-parser-roborock-0.1.4\n",
            "Requirement already satisfied: google-cloud-aiplatform[adk,agent_engines] in /usr/local/lib/python3.11/dist-packages (1.92.0)\n",
            "Requirement already satisfied: google-api-core!=2.0.*,!=2.1.*,!=2.2.*,!=2.3.*,!=2.4.*,!=2.5.*,!=2.6.*,!=2.7.*,<3.0.0,>=1.34.1 in /usr/local/lib/python3.11/dist-packages (from google-api-core[grpc]!=2.0.*,!=2.1.*,!=2.2.*,!=2.3.*,!=2.4.*,!=2.5.*,!=2.6.*,!=2.7.*,<3.0.0,>=1.34.1->google-cloud-aiplatform[adk,agent_engines]) (2.24.2)\n",
            "Requirement already satisfied: google-auth<3.0.0,>=2.14.1 in /usr/local/lib/python3.11/dist-packages (from google-cloud-aiplatform[adk,agent_engines]) (2.38.0)\n",
            "Requirement already satisfied: proto-plus<2.0.0,>=1.22.3 in /usr/local/lib/python3.11/dist-packages (from google-cloud-aiplatform[adk,agent_engines]) (1.26.1)\n",
            "Requirement already satisfied: protobuf!=4.21.0,!=4.21.1,!=4.21.2,!=4.21.3,!=4.21.4,!=4.21.5,<7.0.0,>=3.20.2 in /usr/local/lib/python3.11/dist-packages (from google-cloud-aiplatform[adk,agent_engines]) (5.29.4)\n",
            "Requirement already satisfied: packaging>=14.3 in /usr/local/lib/python3.11/dist-packages (from google-cloud-aiplatform[adk,agent_engines]) (24.2)\n",
            "Requirement already satisfied: google-cloud-storage<3.0.0,>=1.32.0 in /usr/local/lib/python3.11/dist-packages (from google-cloud-aiplatform[adk,agent_engines]) (2.19.0)\n",
            "Requirement already satisfied: google-cloud-bigquery!=3.20.0,<4.0.0,>=1.15.0 in /usr/local/lib/python3.11/dist-packages (from google-cloud-aiplatform[adk,agent_engines]) (3.32.0)\n",
            "Requirement already satisfied: google-cloud-resource-manager<3.0.0,>=1.3.3 in /usr/local/lib/python3.11/dist-packages (from google-cloud-aiplatform[adk,agent_engines]) (1.14.2)\n",
            "Requirement already satisfied: shapely<3.0.0 in /usr/local/lib/python3.11/dist-packages (from google-cloud-aiplatform[adk,agent_engines]) (2.1.0)\n",
            "Requirement already satisfied: google-genai<2.0.0,>=1.0.0 in /usr/local/lib/python3.11/dist-packages (from google-cloud-aiplatform[adk,agent_engines]) (1.15.0)\n",
            "Requirement already satisfied: pydantic<3 in /usr/local/lib/python3.11/dist-packages (from google-cloud-aiplatform[adk,agent_engines]) (2.11.4)\n",
            "Requirement already satisfied: typing-extensions in /usr/local/lib/python3.11/dist-packages (from google-cloud-aiplatform[adk,agent_engines]) (4.13.2)\n",
            "Requirement already satisfied: docstring-parser<1 in /usr/local/lib/python3.11/dist-packages (from google-cloud-aiplatform[adk,agent_engines]) (0.16)\n",
            "Collecting google-adk>=0.0.2 (from google-cloud-aiplatform[adk,agent_engines])\n",
            "  Downloading google_adk-1.0.0-py3-none-any.whl.metadata (9.8 kB)\n",
            "Requirement already satisfied: cloudpickle<4.0,>=3.0 in /usr/local/lib/python3.11/dist-packages (from google-cloud-aiplatform[adk,agent_engines]) (3.1.1)\n",
            "Collecting google-cloud-trace<2 (from google-cloud-aiplatform[adk,agent_engines])\n",
            "  Downloading google_cloud_trace-1.16.1-py3-none-any.whl.metadata (9.5 kB)\n",
            "Collecting google-cloud-logging<4 (from google-cloud-aiplatform[adk,agent_engines])\n",
            "  Downloading google_cloud_logging-3.12.1-py2.py3-none-any.whl.metadata (5.0 kB)\n",
            "Collecting opentelemetry-sdk<2 (from google-cloud-aiplatform[adk,agent_engines])\n",
            "  Downloading opentelemetry_sdk-1.33.1-py3-none-any.whl.metadata (1.6 kB)\n",
            "Collecting opentelemetry-exporter-gcp-trace<2 (from google-cloud-aiplatform[adk,agent_engines])\n",
            "  Downloading opentelemetry_exporter_gcp_trace-1.9.0-py3-none-any.whl.metadata (3.3 kB)\n",
            "Collecting authlib>=1.5.1 (from google-adk>=0.0.2->google-cloud-aiplatform[adk,agent_engines])\n",
            "  Downloading authlib-1.6.0-py2.py3-none-any.whl.metadata (4.1 kB)\n",
            "Requirement already satisfied: click>=8.1.8 in /usr/local/lib/python3.11/dist-packages (from google-adk>=0.0.2->google-cloud-aiplatform[adk,agent_engines]) (8.2.0)\n",
            "Collecting fastapi>=0.115.0 (from google-adk>=0.0.2->google-cloud-aiplatform[adk,agent_engines])\n",
            "  Downloading fastapi-0.115.12-py3-none-any.whl.metadata (27 kB)\n",
            "Requirement already satisfied: google-api-python-client>=2.157.0 in /usr/local/lib/python3.11/dist-packages (from google-adk>=0.0.2->google-cloud-aiplatform[adk,agent_engines]) (2.169.0)\n",
            "Collecting google-cloud-secret-manager>=2.22.0 (from google-adk>=0.0.2->google-cloud-aiplatform[adk,agent_engines])\n",
            "  Downloading google_cloud_secret_manager-2.23.3-py3-none-any.whl.metadata (9.4 kB)\n",
            "Collecting google-cloud-speech>=2.30.0 (from google-adk>=0.0.2->google-cloud-aiplatform[adk,agent_engines])\n",
            "  Downloading google_cloud_speech-2.32.0-py3-none-any.whl.metadata (9.5 kB)\n",
            "Requirement already satisfied: graphviz>=0.20.2 in /usr/local/lib/python3.11/dist-packages (from google-adk>=0.0.2->google-cloud-aiplatform[adk,agent_engines]) (0.20.3)\n",
            "Collecting mcp>=1.5.0 (from google-adk>=0.0.2->google-cloud-aiplatform[adk,agent_engines])\n",
            "  Downloading mcp-1.9.1-py3-none-any.whl.metadata (27 kB)\n",
            "Collecting opentelemetry-api>=1.31.0 (from google-adk>=0.0.2->google-cloud-aiplatform[adk,agent_engines])\n",
            "  Downloading opentelemetry_api-1.33.1-py3-none-any.whl.metadata (1.6 kB)\n",
            "Collecting python-dotenv>=1.0.0 (from google-adk>=0.0.2->google-cloud-aiplatform[adk,agent_engines])\n",
            "  Downloading python_dotenv-1.1.0-py3-none-any.whl.metadata (24 kB)\n",
            "Requirement already satisfied: PyYAML>=6.0.2 in /usr/local/lib/python3.11/dist-packages (from google-adk>=0.0.2->google-cloud-aiplatform[adk,agent_engines]) (6.0.2)\n",
            "Requirement already satisfied: sqlalchemy>=2.0 in /usr/local/lib/python3.11/dist-packages (from google-adk>=0.0.2->google-cloud-aiplatform[adk,agent_engines]) (2.0.40)\n",
            "Requirement already satisfied: tzlocal>=5.3 in /usr/local/lib/python3.11/dist-packages (from google-adk>=0.0.2->google-cloud-aiplatform[adk,agent_engines]) (5.3.1)\n",
            "Collecting uvicorn>=0.34.0 (from google-adk>=0.0.2->google-cloud-aiplatform[adk,agent_engines])\n",
            "  Downloading uvicorn-0.34.2-py3-none-any.whl.metadata (6.5 kB)\n",
            "Requirement already satisfied: googleapis-common-protos<2.0.0,>=1.56.2 in /usr/local/lib/python3.11/dist-packages (from google-api-core!=2.0.*,!=2.1.*,!=2.2.*,!=2.3.*,!=2.4.*,!=2.5.*,!=2.6.*,!=2.7.*,<3.0.0,>=1.34.1->google-api-core[grpc]!=2.0.*,!=2.1.*,!=2.2.*,!=2.3.*,!=2.4.*,!=2.5.*,!=2.6.*,!=2.7.*,<3.0.0,>=1.34.1->google-cloud-aiplatform[adk,agent_engines]) (1.70.0)\n",
            "Requirement already satisfied: requests<3.0.0,>=2.18.0 in /usr/local/lib/python3.11/dist-packages (from google-api-core!=2.0.*,!=2.1.*,!=2.2.*,!=2.3.*,!=2.4.*,!=2.5.*,!=2.6.*,!=2.7.*,<3.0.0,>=1.34.1->google-api-core[grpc]!=2.0.*,!=2.1.*,!=2.2.*,!=2.3.*,!=2.4.*,!=2.5.*,!=2.6.*,!=2.7.*,<3.0.0,>=1.34.1->google-cloud-aiplatform[adk,agent_engines]) (2.32.3)\n",
            "Requirement already satisfied: grpcio<2.0dev,>=1.33.2 in /usr/local/lib/python3.11/dist-packages (from google-api-core[grpc]!=2.0.*,!=2.1.*,!=2.2.*,!=2.3.*,!=2.4.*,!=2.5.*,!=2.6.*,!=2.7.*,<3.0.0,>=1.34.1->google-cloud-aiplatform[adk,agent_engines]) (1.71.0)\n",
            "Requirement already satisfied: grpcio-status<2.0.dev0,>=1.33.2 in /usr/local/lib/python3.11/dist-packages (from google-api-core[grpc]!=2.0.*,!=2.1.*,!=2.2.*,!=2.3.*,!=2.4.*,!=2.5.*,!=2.6.*,!=2.7.*,<3.0.0,>=1.34.1->google-cloud-aiplatform[adk,agent_engines]) (1.71.0)\n",
            "Requirement already satisfied: cachetools<6.0,>=2.0.0 in /usr/local/lib/python3.11/dist-packages (from google-auth<3.0.0,>=2.14.1->google-cloud-aiplatform[adk,agent_engines]) (5.5.2)\n",
            "Requirement already satisfied: pyasn1-modules>=0.2.1 in /usr/local/lib/python3.11/dist-packages (from google-auth<3.0.0,>=2.14.1->google-cloud-aiplatform[adk,agent_engines]) (0.4.2)\n",
            "Requirement already satisfied: rsa<5,>=3.1.4 in /usr/local/lib/python3.11/dist-packages (from google-auth<3.0.0,>=2.14.1->google-cloud-aiplatform[adk,agent_engines]) (4.9.1)\n",
            "Requirement already satisfied: google-cloud-core<3.0.0,>=2.4.1 in /usr/local/lib/python3.11/dist-packages (from google-cloud-bigquery!=3.20.0,<4.0.0,>=1.15.0->google-cloud-aiplatform[adk,agent_engines]) (2.4.3)\n",
            "Requirement already satisfied: google-resumable-media<3.0.0,>=2.0.0 in /usr/local/lib/python3.11/dist-packages (from google-cloud-bigquery!=3.20.0,<4.0.0,>=1.15.0->google-cloud-aiplatform[adk,agent_engines]) (2.7.2)\n",
            "Requirement already satisfied: python-dateutil<3.0.0,>=2.8.2 in /usr/local/lib/python3.11/dist-packages (from google-cloud-bigquery!=3.20.0,<4.0.0,>=1.15.0->google-cloud-aiplatform[adk,agent_engines]) (2.9.0.post0)\n",
            "Collecting google-cloud-appengine-logging<2.0.0,>=0.1.3 (from google-cloud-logging<4->google-cloud-aiplatform[adk,agent_engines])\n",
            "  Downloading google_cloud_appengine_logging-1.6.1-py3-none-any.whl.metadata (9.7 kB)\n",
            "Collecting google-cloud-audit-log<1.0.0,>=0.3.1 (from google-cloud-logging<4->google-cloud-aiplatform[adk,agent_engines])\n",
            "  Downloading google_cloud_audit_log-0.3.2-py3-none-any.whl.metadata (9.0 kB)\n",
            "Requirement already satisfied: grpc-google-iam-v1<1.0.0,>=0.12.4 in /usr/local/lib/python3.11/dist-packages (from google-cloud-logging<4->google-cloud-aiplatform[adk,agent_engines]) (0.14.2)\n",
            "Requirement already satisfied: google-crc32c<2.0dev,>=1.0 in /usr/local/lib/python3.11/dist-packages (from google-cloud-storage<3.0.0,>=1.32.0->google-cloud-aiplatform[adk,agent_engines]) (1.7.1)\n",
            "Requirement already satisfied: anyio<5.0.0,>=4.8.0 in /usr/local/lib/python3.11/dist-packages (from google-genai<2.0.0,>=1.0.0->google-cloud-aiplatform[adk,agent_engines]) (4.9.0)\n",
            "Requirement already satisfied: httpx<1.0.0,>=0.28.1 in /usr/local/lib/python3.11/dist-packages (from google-genai<2.0.0,>=1.0.0->google-cloud-aiplatform[adk,agent_engines]) (0.28.1)\n",
            "Requirement already satisfied: websockets<15.1.0,>=13.0.0 in /usr/local/lib/python3.11/dist-packages (from google-genai<2.0.0,>=1.0.0->google-cloud-aiplatform[adk,agent_engines]) (15.0.1)\n",
            "Collecting opentelemetry-resourcedetector-gcp==1.*,>=1.5.0dev0 (from opentelemetry-exporter-gcp-trace<2->google-cloud-aiplatform[adk,agent_engines])\n",
            "  Downloading opentelemetry_resourcedetector_gcp-1.9.0a0-py3-none-any.whl.metadata (2.4 kB)\n",
            "Collecting opentelemetry-semantic-conventions==0.54b1 (from opentelemetry-sdk<2->google-cloud-aiplatform[adk,agent_engines])\n",
            "  Downloading opentelemetry_semantic_conventions-0.54b1-py3-none-any.whl.metadata (2.5 kB)\n",
            "Collecting deprecated>=1.2.6 (from opentelemetry-api>=1.31.0->google-adk>=0.0.2->google-cloud-aiplatform[adk,agent_engines])\n",
            "  Downloading Deprecated-1.2.18-py2.py3-none-any.whl.metadata (5.7 kB)\n",
            "Collecting importlib-metadata<8.7.0,>=6.0 (from opentelemetry-api>=1.31.0->google-adk>=0.0.2->google-cloud-aiplatform[adk,agent_engines])\n",
            "  Downloading importlib_metadata-8.6.1-py3-none-any.whl.metadata (4.7 kB)\n",
            "Requirement already satisfied: annotated-types>=0.6.0 in /usr/local/lib/python3.11/dist-packages (from pydantic<3->google-cloud-aiplatform[adk,agent_engines]) (0.7.0)\n",
            "Requirement already satisfied: pydantic-core==2.33.2 in /usr/local/lib/python3.11/dist-packages (from pydantic<3->google-cloud-aiplatform[adk,agent_engines]) (2.33.2)\n",
            "Requirement already satisfied: typing-inspection>=0.4.0 in /usr/local/lib/python3.11/dist-packages (from pydantic<3->google-cloud-aiplatform[adk,agent_engines]) (0.4.0)\n",
            "Requirement already satisfied: numpy>=1.21 in /usr/local/lib/python3.11/dist-packages (from shapely<3.0.0->google-cloud-aiplatform[adk,agent_engines]) (2.0.2)\n",
            "Requirement already satisfied: idna>=2.8 in /usr/local/lib/python3.11/dist-packages (from anyio<5.0.0,>=4.8.0->google-genai<2.0.0,>=1.0.0->google-cloud-aiplatform[adk,agent_engines]) (3.10)\n",
            "Requirement already satisfied: sniffio>=1.1 in /usr/local/lib/python3.11/dist-packages (from anyio<5.0.0,>=4.8.0->google-genai<2.0.0,>=1.0.0->google-cloud-aiplatform[adk,agent_engines]) (1.3.1)\n",
            "Requirement already satisfied: cryptography in /usr/local/lib/python3.11/dist-packages (from authlib>=1.5.1->google-adk>=0.0.2->google-cloud-aiplatform[adk,agent_engines]) (43.0.3)\n",
            "Collecting starlette<0.47.0,>=0.40.0 (from fastapi>=0.115.0->google-adk>=0.0.2->google-cloud-aiplatform[adk,agent_engines])\n",
            "  Downloading starlette-0.46.2-py3-none-any.whl.metadata (6.2 kB)\n",
            "Requirement already satisfied: httplib2<1.0.0,>=0.19.0 in /usr/local/lib/python3.11/dist-packages (from google-api-python-client>=2.157.0->google-adk>=0.0.2->google-cloud-aiplatform[adk,agent_engines]) (0.22.0)\n",
            "Requirement already satisfied: google-auth-httplib2<1.0.0,>=0.2.0 in /usr/local/lib/python3.11/dist-packages (from google-api-python-client>=2.157.0->google-adk>=0.0.2->google-cloud-aiplatform[adk,agent_engines]) (0.2.0)\n",
            "Requirement already satisfied: uritemplate<5,>=3.0.1 in /usr/local/lib/python3.11/dist-packages (from google-api-python-client>=2.157.0->google-adk>=0.0.2->google-cloud-aiplatform[adk,agent_engines]) (4.1.1)\n",
            "Requirement already satisfied: certifi in /usr/local/lib/python3.11/dist-packages (from httpx<1.0.0,>=0.28.1->google-genai<2.0.0,>=1.0.0->google-cloud-aiplatform[adk,agent_engines]) (2025.4.26)\n",
            "Requirement already satisfied: httpcore==1.* in /usr/local/lib/python3.11/dist-packages (from httpx<1.0.0,>=0.28.1->google-genai<2.0.0,>=1.0.0->google-cloud-aiplatform[adk,agent_engines]) (1.0.9)\n",
            "Requirement already satisfied: h11>=0.16 in /usr/local/lib/python3.11/dist-packages (from httpcore==1.*->httpx<1.0.0,>=0.28.1->google-genai<2.0.0,>=1.0.0->google-cloud-aiplatform[adk,agent_engines]) (0.16.0)\n",
            "Collecting httpx-sse>=0.4 (from mcp>=1.5.0->google-adk>=0.0.2->google-cloud-aiplatform[adk,agent_engines])\n",
            "  Downloading httpx_sse-0.4.0-py3-none-any.whl.metadata (9.0 kB)\n",
            "Collecting pydantic-settings>=2.5.2 (from mcp>=1.5.0->google-adk>=0.0.2->google-cloud-aiplatform[adk,agent_engines])\n",
            "  Downloading pydantic_settings-2.9.1-py3-none-any.whl.metadata (3.8 kB)\n",
            "Collecting python-multipart>=0.0.9 (from mcp>=1.5.0->google-adk>=0.0.2->google-cloud-aiplatform[adk,agent_engines])\n",
            "  Downloading python_multipart-0.0.20-py3-none-any.whl.metadata (1.8 kB)\n",
            "Collecting sse-starlette>=1.6.1 (from mcp>=1.5.0->google-adk>=0.0.2->google-cloud-aiplatform[adk,agent_engines])\n",
            "  Downloading sse_starlette-2.3.5-py3-none-any.whl.metadata (7.8 kB)\n",
            "Requirement already satisfied: pyasn1<0.7.0,>=0.6.1 in /usr/local/lib/python3.11/dist-packages (from pyasn1-modules>=0.2.1->google-auth<3.0.0,>=2.14.1->google-cloud-aiplatform[adk,agent_engines]) (0.6.1)\n",
            "Requirement already satisfied: six>=1.5 in /usr/local/lib/python3.11/dist-packages (from python-dateutil<3.0.0,>=2.8.2->google-cloud-bigquery!=3.20.0,<4.0.0,>=1.15.0->google-cloud-aiplatform[adk,agent_engines]) (1.17.0)\n",
            "Requirement already satisfied: charset-normalizer<4,>=2 in /usr/local/lib/python3.11/dist-packages (from requests<3.0.0,>=2.18.0->google-api-core!=2.0.*,!=2.1.*,!=2.2.*,!=2.3.*,!=2.4.*,!=2.5.*,!=2.6.*,!=2.7.*,<3.0.0,>=1.34.1->google-api-core[grpc]!=2.0.*,!=2.1.*,!=2.2.*,!=2.3.*,!=2.4.*,!=2.5.*,!=2.6.*,!=2.7.*,<3.0.0,>=1.34.1->google-cloud-aiplatform[adk,agent_engines]) (3.4.2)\n",
            "Requirement already satisfied: urllib3<3,>=1.21.1 in /usr/local/lib/python3.11/dist-packages (from requests<3.0.0,>=2.18.0->google-api-core!=2.0.*,!=2.1.*,!=2.2.*,!=2.3.*,!=2.4.*,!=2.5.*,!=2.6.*,!=2.7.*,<3.0.0,>=1.34.1->google-api-core[grpc]!=2.0.*,!=2.1.*,!=2.2.*,!=2.3.*,!=2.4.*,!=2.5.*,!=2.6.*,!=2.7.*,<3.0.0,>=1.34.1->google-cloud-aiplatform[adk,agent_engines]) (2.4.0)\n",
            "Requirement already satisfied: greenlet>=1 in /usr/local/lib/python3.11/dist-packages (from sqlalchemy>=2.0->google-adk>=0.0.2->google-cloud-aiplatform[adk,agent_engines]) (3.2.2)\n",
            "Requirement already satisfied: wrapt<2,>=1.10 in /usr/local/lib/python3.11/dist-packages (from deprecated>=1.2.6->opentelemetry-api>=1.31.0->google-adk>=0.0.2->google-cloud-aiplatform[adk,agent_engines]) (1.17.2)\n",
            "Requirement already satisfied: pyparsing!=3.0.0,!=3.0.1,!=3.0.2,!=3.0.3,<4,>=2.4.2 in /usr/local/lib/python3.11/dist-packages (from httplib2<1.0.0,>=0.19.0->google-api-python-client>=2.157.0->google-adk>=0.0.2->google-cloud-aiplatform[adk,agent_engines]) (3.2.3)\n",
            "Requirement already satisfied: zipp>=3.20 in /usr/local/lib/python3.11/dist-packages (from importlib-metadata<8.7.0,>=6.0->opentelemetry-api>=1.31.0->google-adk>=0.0.2->google-cloud-aiplatform[adk,agent_engines]) (3.21.0)\n",
            "Requirement already satisfied: cffi>=1.12 in /usr/local/lib/python3.11/dist-packages (from cryptography->authlib>=1.5.1->google-adk>=0.0.2->google-cloud-aiplatform[adk,agent_engines]) (1.17.1)\n",
            "Requirement already satisfied: pycparser in /usr/local/lib/python3.11/dist-packages (from cffi>=1.12->cryptography->authlib>=1.5.1->google-adk>=0.0.2->google-cloud-aiplatform[adk,agent_engines]) (2.22)\n",
            "Downloading google_adk-1.0.0-py3-none-any.whl (1.2 MB)\n",
            "\u001b[2K   \u001b[90m━━━━━━━━━━━━━━━━━━━━━━━━━━━━━━━━━━━━━━━━\u001b[0m \u001b[32m1.2/1.2 MB\u001b[0m \u001b[31m19.0 MB/s\u001b[0m eta \u001b[36m0:00:00\u001b[0m\n",
            "\u001b[?25hDownloading google_cloud_logging-3.12.1-py2.py3-none-any.whl (229 kB)\n",
            "\u001b[2K   \u001b[90m━━━━━━━━━━━━━━━━━━━━━━━━━━━━━━━━━━━━━━━━\u001b[0m \u001b[32m229.5/229.5 kB\u001b[0m \u001b[31m16.0 MB/s\u001b[0m eta \u001b[36m0:00:00\u001b[0m\n",
            "\u001b[?25hDownloading google_cloud_trace-1.16.1-py3-none-any.whl (103 kB)\n",
            "\u001b[2K   \u001b[90m━━━━━━━━━━━━━━━━━━━━━━━━━━━━━━━━━━━━━━━━\u001b[0m \u001b[32m103.3/103.3 kB\u001b[0m \u001b[31m7.6 MB/s\u001b[0m eta \u001b[36m0:00:00\u001b[0m\n",
            "\u001b[?25hDownloading opentelemetry_exporter_gcp_trace-1.9.0-py3-none-any.whl (13 kB)\n",
            "Downloading opentelemetry_resourcedetector_gcp-1.9.0a0-py3-none-any.whl (20 kB)\n",
            "Downloading opentelemetry_sdk-1.33.1-py3-none-any.whl (118 kB)\n",
            "\u001b[2K   \u001b[90m━━━━━━━━━━━━━━━━━━━━━━━━━━━━━━━━━━━━━━━━\u001b[0m \u001b[32m119.0/119.0 kB\u001b[0m \u001b[31m9.4 MB/s\u001b[0m eta \u001b[36m0:00:00\u001b[0m\n",
            "\u001b[?25hDownloading opentelemetry_api-1.33.1-py3-none-any.whl (65 kB)\n",
            "\u001b[2K   \u001b[90m━━━━━━━━━━━━━━━━━━━━━━━━━━━━━━━━━━━━━━━━\u001b[0m \u001b[32m65.8/65.8 kB\u001b[0m \u001b[31m4.7 MB/s\u001b[0m eta \u001b[36m0:00:00\u001b[0m\n",
            "\u001b[?25hDownloading opentelemetry_semantic_conventions-0.54b1-py3-none-any.whl (194 kB)\n",
            "\u001b[2K   \u001b[90m━━━━━━━━━━━━━━━━━━━━━━━━━━━━━━━━━━━━━━━━\u001b[0m \u001b[32m194.9/194.9 kB\u001b[0m \u001b[31m15.4 MB/s\u001b[0m eta \u001b[36m0:00:00\u001b[0m\n",
            "\u001b[?25hDownloading authlib-1.6.0-py2.py3-none-any.whl (239 kB)\n",
            "\u001b[2K   \u001b[90m━━━━━━━━━━━━━━━━━━━━━━━━━━━━━━━━━━━━━━━━\u001b[0m \u001b[32m240.0/240.0 kB\u001b[0m \u001b[31m17.4 MB/s\u001b[0m eta \u001b[36m0:00:00\u001b[0m\n",
            "\u001b[?25hDownloading fastapi-0.115.12-py3-none-any.whl (95 kB)\n",
            "\u001b[2K   \u001b[90m━━━━━━━━━━━━━━━━━━━━━━━━━━━━━━━━━━━━━━━━\u001b[0m \u001b[32m95.2/95.2 kB\u001b[0m \u001b[31m7.1 MB/s\u001b[0m eta \u001b[36m0:00:00\u001b[0m\n",
            "\u001b[?25hDownloading google_cloud_appengine_logging-1.6.1-py3-none-any.whl (16 kB)\n",
            "Downloading google_cloud_audit_log-0.3.2-py3-none-any.whl (32 kB)\n",
            "Downloading google_cloud_secret_manager-2.23.3-py3-none-any.whl (217 kB)\n",
            "\u001b[2K   \u001b[90m━━━━━━━━━━━━━━━━━━━━━━━━━━━━━━━━━━━━━━━━\u001b[0m \u001b[32m217.1/217.1 kB\u001b[0m \u001b[31m15.5 MB/s\u001b[0m eta \u001b[36m0:00:00\u001b[0m\n",
            "\u001b[?25hDownloading google_cloud_speech-2.32.0-py3-none-any.whl (334 kB)\n",
            "\u001b[2K   \u001b[90m━━━━━━━━━━━━━━━━━━━━━━━━━━━━━━━━━━━━━━━━\u001b[0m \u001b[32m334.1/334.1 kB\u001b[0m \u001b[31m27.0 MB/s\u001b[0m eta \u001b[36m0:00:00\u001b[0m\n",
            "\u001b[?25hDownloading mcp-1.9.1-py3-none-any.whl (130 kB)\n",
            "\u001b[2K   \u001b[90m━━━━━━━━━━━━━━━━━━━━━━━━━━━━━━━━━━━━━━━━\u001b[0m \u001b[32m130.3/130.3 kB\u001b[0m \u001b[31m10.0 MB/s\u001b[0m eta \u001b[36m0:00:00\u001b[0m\n",
            "\u001b[?25hDownloading python_dotenv-1.1.0-py3-none-any.whl (20 kB)\n",
            "Downloading uvicorn-0.34.2-py3-none-any.whl (62 kB)\n",
            "\u001b[2K   \u001b[90m━━━━━━━━━━━━━━━━━━━━━━━━━━━━━━━━━━━━━━━━\u001b[0m \u001b[32m62.5/62.5 kB\u001b[0m \u001b[31m4.8 MB/s\u001b[0m eta \u001b[36m0:00:00\u001b[0m\n",
            "\u001b[?25hDownloading Deprecated-1.2.18-py2.py3-none-any.whl (10.0 kB)\n",
            "Downloading httpx_sse-0.4.0-py3-none-any.whl (7.8 kB)\n",
            "Downloading importlib_metadata-8.6.1-py3-none-any.whl (26 kB)\n",
            "Downloading pydantic_settings-2.9.1-py3-none-any.whl (44 kB)\n",
            "\u001b[2K   \u001b[90m━━━━━━━━━━━━━━━━━━━━━━━━━━━━━━━━━━━━━━━━\u001b[0m \u001b[32m44.4/44.4 kB\u001b[0m \u001b[31m3.0 MB/s\u001b[0m eta \u001b[36m0:00:00\u001b[0m\n",
            "\u001b[?25hDownloading python_multipart-0.0.20-py3-none-any.whl (24 kB)\n",
            "Downloading sse_starlette-2.3.5-py3-none-any.whl (10 kB)\n",
            "Downloading starlette-0.46.2-py3-none-any.whl (72 kB)\n",
            "\u001b[2K   \u001b[90m━━━━━━━━━━━━━━━━━━━━━━━━━━━━━━━━━━━━━━━━\u001b[0m \u001b[32m72.0/72.0 kB\u001b[0m \u001b[31m5.8 MB/s\u001b[0m eta \u001b[36m0:00:00\u001b[0m\n",
            "\u001b[?25hInstalling collected packages: uvicorn, python-multipart, python-dotenv, importlib-metadata, httpx-sse, deprecated, starlette, opentelemetry-api, google-cloud-audit-log, sse-starlette, pydantic-settings, opentelemetry-semantic-conventions, fastapi, authlib, opentelemetry-sdk, mcp, opentelemetry-resourcedetector-gcp, google-cloud-trace, google-cloud-speech, google-cloud-secret-manager, google-cloud-appengine-logging, opentelemetry-exporter-gcp-trace, google-cloud-logging, google-adk\n",
            "  Attempting uninstall: importlib-metadata\n",
            "    Found existing installation: importlib_metadata 8.7.0\n",
            "    Uninstalling importlib_metadata-8.7.0:\n",
            "      Successfully uninstalled importlib_metadata-8.7.0\n",
            "Successfully installed authlib-1.6.0 deprecated-1.2.18 fastapi-0.115.12 google-adk-1.0.0 google-cloud-appengine-logging-1.6.1 google-cloud-audit-log-0.3.2 google-cloud-logging-3.12.1 google-cloud-secret-manager-2.23.3 google-cloud-speech-2.32.0 google-cloud-trace-1.16.1 httpx-sse-0.4.0 importlib-metadata-8.6.1 mcp-1.9.1 opentelemetry-api-1.33.1 opentelemetry-exporter-gcp-trace-1.9.0 opentelemetry-resourcedetector-gcp-1.9.0a0 opentelemetry-sdk-1.33.1 opentelemetry-semantic-conventions-0.54b1 pydantic-settings-2.9.1 python-dotenv-1.1.0 python-multipart-0.0.20 sse-starlette-2.3.5 starlette-0.46.2 uvicorn-0.34.2\n"
          ]
        },
        {
          "output_type": "display_data",
          "data": {
            "application/vnd.colab-display-data+json": {
              "pip_warning": {
                "packages": [
                  "google",
                  "importlib_metadata"
                ]
              },
              "id": "a36090bed3b2478c9a183e1f107f8fc2"
            }
          },
          "metadata": {}
        }
      ],
      "source": [
        "!pip install python-roborock\n",
        "!pip install google-cloud-aiplatform[adk,agent_engines]\n"
      ]
    },
    {
      "cell_type": "code",
      "execution_count": 1,
      "id": "eac697b2",
      "metadata": {
        "id": "eac697b2",
        "outputId": "da7877a9-8d61-4998-dede-01fa2fab0159",
        "colab": {
          "base_uri": "https://localhost:8080/"
        }
      },
      "outputs": [
        {
          "output_type": "execute_result",
          "data": {
            "text/plain": [
              "True"
            ]
          },
          "metadata": {},
          "execution_count": 1
        }
      ],
      "source": [
        "from dotenv import load_dotenv\n",
        "\n",
        "load_dotenv()\n"
      ]
    },
    {
      "cell_type": "code",
      "execution_count": 2,
      "id": "6b34a895",
      "metadata": {
        "id": "6b34a895"
      },
      "outputs": [],
      "source": [
        "\n",
        "from google.adk.agents import Agent\n",
        "import vertexai\n",
        "\n",
        "# Import Roborock libraries\n",
        "from roborock import HomeDataProduct, DeviceData, RoborockCommand\n",
        "from roborock.version_1_apis import RoborockMqttClientV1, RoborockLocalClientV1\n",
        "from roborock.web_api import RoborockApiClient\n",
        "\n"
      ]
    },
    {
      "cell_type": "code",
      "execution_count": 3,
      "id": "bfde28a6",
      "metadata": {
        "id": "bfde28a6"
      },
      "outputs": [],
      "source": [
        "# Global variables to hold the MQTT client and device\n",
        "mqtt_client = None\n",
        "device = None\n",
        "\n",
        "# Helper function to get environment variables\n",
        "def get_env_var(key):\n",
        "    value = os.getenv(key)\n",
        "    if value is None:\n",
        "        raise ValueError(f\"Environment variable '{key}' not found.\")\n",
        "    return value\n",
        "\n",
        "# Login to Roborock (will only run if mqtt_client is None)\n",
        "async def ensure_login():\n",
        "    global mqtt_client\n",
        "    global device\n",
        "    if mqtt_client is None:\n",
        "        try:\n",
        "            web_api = RoborockApiClient(username=get_env_var('ROBOROCK_USERNAME'))\n",
        "            user_data = await web_api.pass_login(password=get_env_var('ROBOROCK_PASSWORD'))\n",
        "            home_data = await web_api.get_home_data_v2(user_data)\n",
        "            device_data = home_data.devices[0]\n",
        "            product_info: dict[str, HomeDataProduct] = {\n",
        "                product.id: product for product in home_data.products\n",
        "            }\n",
        "            device = DeviceData(device_data, product_info[device_data.product_id].model)\n",
        "            mqtt_client = RoborockMqttClientV1(user_data, device)\n",
        "            await mqtt_client.async_connect()\n",
        "            print(\"Roborock login successful.\")\n",
        "            return True\n",
        "        except Exception as e:\n",
        "            print(f\"Roborock login failed: {e}\")\n",
        "            mqtt_client = None\n",
        "            device = None\n",
        "            return False\n",
        "    return True\n",
        "\n",
        "# Resets Roborock login and session\n",
        "async def reset_connection():\n",
        "    global mqtt_client\n",
        "    global device\n",
        "    if mqtt_client:\n",
        "        try:\n",
        "            await mqtt_client.async_disconnect()\n",
        "            print(\"MQTT client disconnected.\")\n",
        "        except Exception as e:\n",
        "            print(f\"Error disconnecting MQTT client: {e}\")\n",
        "        finally:\n",
        "            mqtt_client = None\n",
        "            device = None\n",
        "            print(\"Roborock connection reset.\")\n",
        "\n",
        "# Get Roborock status\n",
        "async def get_status():\n",
        "    if not await ensure_login():\n",
        "        return {\"error\": \"Not logged in to Roborock.\"}\n",
        "    try:\n",
        "        status = await mqtt_client.get_status()\n",
        "        print(\"Current Status:\")\n",
        "        print(status)\n",
        "        return {\n",
        "            \"state\": status.state_name,\n",
        "            \"battery\": status.battery,\n",
        "            \"clean_time\": status.clean_time,\n",
        "            \"clean_area\": status.square_meter_clean_area,\n",
        "            \"error\": status.error_code_name,\n",
        "            \"fan_speed\": status.fan_power_name,\n",
        "            \"mop_mode\": status.mop_mode_name,\n",
        "            \"docked\": status.state_name == \"charging\"\n",
        "        }\n",
        "    except Exception as e:\n",
        "        print(f\"Error getting status: {e}\")\n",
        "        await reset_connection()\n",
        "        return {\"error\": f\"Error getting status: {e}. Connection reset.\"}\n",
        "\n",
        "# Send basic Roborock commands that don't have parameters\n",
        "async def send_basic_command(command: str) -> str:\n",
        "    if not await ensure_login():\n",
        "        return {\"error\": \"Not logged in to Roborock.\"}\n",
        "    try:\n",
        "        await mqtt_client.send_command(command)\n",
        "        print(f\"Command sent: {command}\")\n",
        "        return {\"result\": f\"Command {command} sent successfully.\"}\n",
        "    except Exception as e:\n",
        "        print(f\"Error sending {command}: {e}\")\n",
        "        await reset_connection()\n",
        "        return {\"error\": f\"Error sending {command}: {e}. Connection reset.\"}\n",
        "\n",
        "# cleans a specific room also known as segment. To Do is to make this dynamic based upon desired segment from instructions mapping in the Agent definition below.\n",
        "async def app_segment_clean(segment_number: dict) -> str:\n",
        "    if not await ensure_login():\n",
        "        return {\"error\": \"Not logged in to Roborock.\"}\n",
        "    command = \"app_segment_clean\"\n",
        "    try:\n",
        "        segment = await mqtt_client.send_command(command, [{\"segments\": segment_number, \"repeat\": 1}])\n",
        "        print(f\"Command sent: {command}\")\n",
        "        return segment\n",
        "    except Exception as e:\n",
        "        print(f\"Error sending {command}: {e}\")\n",
        "        await reset_connection()\n",
        "        return {\"error\": f\"Error sending {command}: {e}. Connection reset.\"}\n"
      ]
    },
    {
      "cell_type": "code",
      "execution_count": 4,
      "id": "d3691ef8",
      "metadata": {
        "id": "d3691ef8"
      },
      "outputs": [],
      "source": [
        "# root agent definition\n",
        "root_agent =  Agent(\n",
        "    name=\"Roborock_Agent\", # ensure no spaces here\n",
        "    # model=\"gemini-2.0-flash-exp\", # for live api\n",
        "    model=\"gemini-2.0-flash\",\n",
        "    description=\"Agent to control and get status of your Roborock vacuum\",\n",
        "    # natural language instruction set which explains to the agent its capabilities and how to operate\n",
        "    instruction=\"\"\"I can control and get the status of your Roborock vacuum.\n",
        "        I can handle the following commands:\n",
        "        - get_status (this command gets the current status of the Roborock)\n",
        "        when the above command is needed, call the get_status function\n",
        "\n",
        "        Additional commands.  Use the send_basic_command function for these commands\n",
        "        - app_charge (this command sends the Roborock back to the dock)\n",
        "        - app_start_wash (this command starts the washing of the mop while docked)\n",
        "        - app_stop_wash (this command stops the washing of the mop while docked)\n",
        "        - app_start (this command starts vacuuming and mopping job)\n",
        "        - app_stop (this command stops the vacuuming and mopping job)\n",
        "        - app_pause (this command pauses the vacuuming and mopping job)\n",
        "        - app_start_collect_dust (this command starts emptying the dust bin)\n",
        "        - app_stop_collect_dust (this command stops emptying the dust bin)\n",
        "        - get_room_mapping (gets a list of the rooms in a map)\n",
        "\n",
        "        when the above commands are needed, call send_basic_command(command).  Examples:\n",
        "        - for app_start_wash call send_basic_command(\"app_start_wash\")\n",
        "        - for app_stop_wash call send_bacic_command(\"app_stop_wash\")\n",
        "\n",
        "        Additional commands:\n",
        "        - app_segment_clean (this command starts cleaning rooms or segments)\n",
        "        - for this command, use the function app_segment_clean function\n",
        "        - when using this command, you must pass a segment number from the mapping below as a list of integers.\n",
        "        - For example, for a request to clean Bedroom4, you would call:\n",
        "        app_segment_clean([16])\n",
        "        - if multiple rooms are specified,\n",
        "        app_segment_clean([16,18])\n",
        "\n",
        "\n",
        "        Segment mapping:\n",
        "        16 = Bedroom4\n",
        "        17 = Balcony\n",
        "        18 = Bedroom3\n",
        "        19 = Bathroom\n",
        "        20 = Hallway\n",
        "        21 = Kitchen\n",
        "        22 = Dining Room\n",
        "        23 = Entryway\n",
        "        24 = Bedroom1\n",
        "        25 = Bedroom2\n",
        "        26 = Living Room\n",
        "\n",
        "        ***Finally, format the status as a nice table***\n",
        "\n",
        "        \"\"\",\n",
        "    # tells the agent what tools (function names from above) it has access to. The agent uses the instructions above to understand how and when to use these tools.\n",
        "    tools=[\n",
        "        get_status,\n",
        "        send_basic_command,\n",
        "        app_segment_clean,\n",
        "    ],\n",
        ")"
      ]
    },
    {
      "cell_type": "code",
      "execution_count": 10,
      "id": "d0532c5a",
      "metadata": {
        "id": "d0532c5a"
      },
      "outputs": [],
      "source": [
        "# Global variables to hold the MQTT client and device\n",
        "mqtt_client = None\n",
        "device = None\n",
        "\n",
        "import os\n",
        "\n",
        "# Helper function to get environment variables\n",
        "def get_env_var(key):\n",
        "    value = os.getenv(key)\n",
        "    if value is None:\n",
        "        raise ValueError(f\"Environment variable '{key}' not found.\")\n",
        "    return value\n",
        "\n",
        "project_id=get_env_var(\"GOOGLE_CLOUD_PROJECT\")\n",
        "staging_bucket=get_env_var(\"GOOGLE_CLOUD_STORAGE_BUCKET\")\n",
        "location=get_env_var(\"GOOGLE_CLOUD_LOCATION\")\n",
        "\n",
        "# initialitze vertexai\n",
        "vertexai.init(\n",
        "    project=project_id,\n",
        "    location=location,\n",
        "    staging_bucket=staging_bucket,\n",
        ")\n"
      ]
    },
    {
      "cell_type": "code",
      "execution_count": null,
      "id": "194ccca4",
      "metadata": {
        "id": "194ccca4"
      },
      "outputs": [],
      "source": [
        "from vertexai.preview import reasoning_engines\n",
        "\n",
        "app = reasoning_engines.AdkApp(\n",
        "    agent=root_agent,\n",
        "    enable_tracing=True,\n",
        ")"
      ]
    },
    {
      "cell_type": "code",
      "execution_count": null,
      "id": "21ee60aa",
      "metadata": {
        "id": "21ee60aa"
      },
      "outputs": [],
      "source": [
        "# In a Jupyter cell\n",
        "!gcloud auth list\n",
        "!gcloud config list project\n",
        "!echo $GOOGLE_APPLICATION_CREDENTIALS # On Linux/macOS\n",
        "# !echo %GOOGLE_APPLICATION_CREDENTIALS% # On Windows CMD\n",
        "# !Get-ChildItem Env:GOOGLE_APPLICATION_CREDENTIALS # On Windows PowerShell\n"
      ]
    },
    {
      "cell_type": "code",
      "execution_count": 11,
      "id": "125ea532",
      "metadata": {
        "id": "125ea532",
        "outputId": "800938ef-ad4f-4c18-95b8-76a5872c7881",
        "colab": {
          "base_uri": "https://localhost:8080/"
        }
      },
      "outputs": [
        {
          "output_type": "stream",
          "name": "stderr",
          "text": [
            "INFO:vertexai.agent_engines:Deploying google.adk.agents.Agent as an application.\n",
            "INFO:vertexai.agent_engines:Identified the following requirements: {'pydantic': '2.11.4', 'google-cloud-aiplatform': '1.92.0', 'cloudpickle': '3.1.1'}\n",
            "WARNING:vertexai.agent_engines:The following requirements are missing: {'pydantic', 'cloudpickle'}\n",
            "INFO:vertexai.agent_engines:The following requirements are appended: {'cloudpickle==3.1.1', 'pydantic==2.11.4'}\n",
            "INFO:vertexai.agent_engines:The final list of requirements: ['google-cloud-aiplatform[adk,agent_engines]', 'python-roborock', 'cloudpickle==3.1.1', 'pydantic==2.11.4']\n",
            "INFO:vertexai.agent_engines:Using bucket adk-agent-engine-staging\n",
            "INFO:vertexai.agent_engines:Wrote to gs://adk-agent-engine-staging/agent_engine/agent_engine.pkl\n",
            "INFO:vertexai.agent_engines:Writing to gs://adk-agent-engine-staging/agent_engine/requirements.txt\n",
            "INFO:vertexai.agent_engines:Creating in-memory tarfile of extra_packages\n",
            "INFO:vertexai.agent_engines:Writing to gs://adk-agent-engine-staging/agent_engine/dependencies.tar.gz\n",
            "WARNING:vertexai.agent_engines:failed to generate schema for stream_query: `stream_query` is not fully defined; you should define `ContentDict`, then call `stream_query.model_rebuild()`.\n",
            "\n",
            "For further information visit https://errors.pydantic.dev/2.11/u/class-not-fully-defined\n",
            "INFO:vertexai.agent_engines:Creating AgentEngine\n",
            "INFO:vertexai.agent_engines:Create AgentEngine backing LRO: projects/850217602120/locations/us-central1/reasoningEngines/7558773005053067264/operations/8710461235570671616\n",
            "INFO:vertexai.agent_engines:View progress and logs at https://console.cloud.google.com/logs/query?project=fine-tuning-webinar\n",
            "INFO:vertexai.agent_engines:AgentEngine created. Resource name: projects/850217602120/locations/us-central1/reasoningEngines/7558773005053067264\n",
            "INFO:vertexai.agent_engines:To use this AgentEngine in another session:\n",
            "INFO:vertexai.agent_engines:agent_engine = vertexai.agent_engines.get('projects/850217602120/locations/us-central1/reasoningEngines/7558773005053067264')\n"
          ]
        }
      ],
      "source": [
        "#!gcloud auth application-default login --project {project_id}\n",
        "#!gcloud config list project\n",
        "\n",
        "\n",
        "from google.colab import auth\n",
        "auth.authenticate_user(project_id=project_id)\n",
        "\n",
        "from vertexai import agent_engines\n",
        "\n",
        "remote_app = agent_engines.create(\n",
        "    agent_engine=root_agent,\n",
        "    requirements=[\n",
        "        \"google-cloud-aiplatform[adk,agent_engines]\",\n",
        "        \"python-roborock\"\n",
        "    ],\n",
        "    display_name=\"Roborock Agent 1\",\n",
        "    description=\"The Roborock Agent can control and get the status for the Roborock Vacuum\",\n",
        ")"
      ]
    },
    {
      "cell_type": "code",
      "execution_count": 25,
      "id": "b2ee6a4b",
      "metadata": {
        "id": "b2ee6a4b",
        "outputId": "b92eb351-a394-43fd-9849-9900e9d95809",
        "colab": {
          "base_uri": "https://localhost:8080/",
          "height": 54
        }
      },
      "outputs": [
        {
          "output_type": "execute_result",
          "data": {
            "text/plain": [
              "'projects/850217602120/locations/us-central1/reasoningEngines/7558773005053067264'"
            ],
            "application/vnd.google.colaboratory.intrinsic+json": {
              "type": "string"
            }
          },
          "metadata": {},
          "execution_count": 25
        }
      ],
      "source": [
        "remote_app_resource_name = remote_app.resource_name\n",
        "remote_app_resource_name"
      ]
    },
    {
      "cell_type": "code",
      "execution_count": 35,
      "id": "dca44345",
      "metadata": {
        "id": "dca44345",
        "outputId": "0651cfa3-10e0-484d-f4e6-42b451eaa857",
        "colab": {
          "base_uri": "https://localhost:8080/"
        }
      },
      "outputs": [
        {
          "output_type": "execute_result",
          "data": {
            "text/plain": [
              "{'events': [],\n",
              " 'last_update_time': 1748264659.660153,\n",
              " 'state': {},\n",
              " 'id': '9091761044765802496',\n",
              " 'app_name': '7558773005053067264',\n",
              " 'user_id': 'u_457'}"
            ]
          },
          "metadata": {},
          "execution_count": 35
        }
      ],
      "source": [
        "user_id = \"u_457\"\n",
        "\n",
        "remote_session = remote_app.create_session(user_id=user_id)\n",
        "remote_session"
      ]
    },
    {
      "cell_type": "code",
      "execution_count": 36,
      "id": "b940594c",
      "metadata": {
        "id": "b940594c",
        "outputId": "4d6233bc-a94b-4305-9283-29bd93b98ef3",
        "colab": {
          "base_uri": "https://localhost:8080/"
        }
      },
      "outputs": [
        {
          "output_type": "execute_result",
          "data": {
            "text/plain": [
              "{'sessions': [{'events': [],\n",
              "   'last_update_time': 1748264659.660153,\n",
              "   'state': {},\n",
              "   'id': '9091761044765802496',\n",
              "   'app_name': '7558773005053067264',\n",
              "   'user_id': 'u_457'}]}"
            ]
          },
          "metadata": {},
          "execution_count": 36
        }
      ],
      "source": [
        "remote_app.list_sessions(user_id=user_id)"
      ]
    },
    {
      "cell_type": "code",
      "execution_count": 37,
      "id": "06223c35",
      "metadata": {
        "id": "06223c35",
        "outputId": "34aa4a65-1a35-4fed-85d9-99269c453a19",
        "colab": {
          "base_uri": "https://localhost:8080/"
        }
      },
      "outputs": [
        {
          "output_type": "execute_result",
          "data": {
            "text/plain": [
              "{'events': [],\n",
              " 'user_id': 'u_457',\n",
              " 'state': {},\n",
              " 'id': '9091761044765802496',\n",
              " 'app_name': '7558773005053067264',\n",
              " 'last_update_time': 1748264659.660153}"
            ]
          },
          "metadata": {},
          "execution_count": 37
        }
      ],
      "source": [
        "session_object = remote_app.get_session(user_id=user_id, session_id=remote_session[\"id\"])\n",
        "session_object"
      ]
    },
    {
      "cell_type": "code",
      "execution_count": 43,
      "id": "1d1734f6",
      "metadata": {
        "id": "1d1734f6",
        "outputId": "7630263c-213e-42fe-bf97-458c5913c52e",
        "colab": {
          "base_uri": "https://localhost:8080/",
          "height": 271
        }
      },
      "outputs": [
        {
          "output_type": "error",
          "ename": "AttributeError",
          "evalue": "'AgentEngine' object has no attribute 'stream_query'",
          "traceback": [
            "\u001b[0;31m---------------------------------------------------------------------------\u001b[0m",
            "\u001b[0;31mAttributeError\u001b[0m                            Traceback (most recent call last)",
            "\u001b[0;32m<ipython-input-43-39c7b52e80cc>\u001b[0m in \u001b[0;36m<cell line: 0>\u001b[0;34m()\u001b[0m\n\u001b[1;32m      5\u001b[0m \u001b[0magent\u001b[0m\u001b[0;34m\u001b[0m\u001b[0;34m\u001b[0m\u001b[0m\n\u001b[1;32m      6\u001b[0m \u001b[0;34m\u001b[0m\u001b[0m\n\u001b[0;32m----> 7\u001b[0;31m agent.stream_query(input={\"messages\": [\n\u001b[0m\u001b[1;32m      8\u001b[0m     \u001b[0;34m(\u001b[0m\u001b[0;34m\"user\"\u001b[0m\u001b[0;34m,\u001b[0m \u001b[0;34m\"What is the exchange rate from US dollars to Swedish currency?\"\u001b[0m\u001b[0;34m)\u001b[0m\u001b[0;34m\u001b[0m\u001b[0;34m\u001b[0m\u001b[0m\n\u001b[1;32m      9\u001b[0m ]})\n",
            "\u001b[0;31mAttributeError\u001b[0m: 'AgentEngine' object has no attribute 'stream_query'"
          ]
        }
      ],
      "source": [
        "remote_app = agent_engines.get(remote_app_resource_name)\n",
        "remote_app\n",
        "\n",
        "agent = agent_engines.get(remote_app_resource_name)\n",
        "agent\n",
        "\n",
        "agent.stream_query(input={\"messages\": [\n",
        "    (\"user\", \"What is the exchange rate from US dollars to Swedish currency?\")\n",
        "]})\n",
        "\n"
      ]
    },
    {
      "source": [
        "remote_app = agent_engines.get(remote_app_resource_name)\n",
        "remote_app\n",
        "\n",
        "# Assuming user_id and remote_session are still valid from previous steps\n",
        "user_id = \"u_456\" # Replace with your user_id if it's different\n",
        "# You should have a remote_session object from the create_session call\n",
        "\n",
        "# Send a query to the agent\n",
        "for event in remote_app.streaming_agent_run_with_events(\n",
        "    user_id=user_id,\n",
        "    session_id=remote_session[\"id\"], # Use the ID from your remote_session object\n",
        "    message=\"get the status\", # Your query to the agent\n",
        "):\n",
        "    print(event)"
      ],
      "cell_type": "code",
      "metadata": {
        "id": "wg5Uh55kpq7N",
        "outputId": "92139ecf-397e-4267-a45a-745fcea68daa",
        "colab": {
          "base_uri": "https://localhost:8080/",
          "height": 908
        }
      },
      "id": "wg5Uh55kpq7N",
      "execution_count": 34,
      "outputs": [
        {
          "output_type": "stream",
          "name": "stdout",
          "text": [
            "{'detail': \"Agent Engine Error: Invalid request. Exception: AdkApp.streaming_agent_run_with_events() got an unexpected keyword argument 'message'\\n\\nRequest Data: {'message': 'get the status', 'session_id': '7731673957299912704', 'user_id': 'u_456'}\"}\n"
          ]
        },
        {
          "output_type": "error",
          "ename": "FailedPrecondition",
          "evalue": "400 Reasoning Engine Execution failed.\nPlease refer to our documentation (https://cloud.google.com/vertex-ai/generative-ai/docs/agent-engine/troubleshooting/use) for checking logs and other troubleshooting tips.\nError Details: ",
          "traceback": [
            "\u001b[0;31m---------------------------------------------------------------------------\u001b[0m",
            "\u001b[0;31m_MultiThreadedRendezvous\u001b[0m                  Traceback (most recent call last)",
            "\u001b[0;32m/usr/local/lib/python3.11/dist-packages/google/api_core/grpc_helpers.py\u001b[0m in \u001b[0;36m__next__\u001b[0;34m(self)\u001b[0m\n\u001b[1;32m    115\u001b[0m                 \u001b[0;32mreturn\u001b[0m \u001b[0mresult\u001b[0m\u001b[0;34m\u001b[0m\u001b[0;34m\u001b[0m\u001b[0m\n\u001b[0;32m--> 116\u001b[0;31m             \u001b[0;32mreturn\u001b[0m \u001b[0mnext\u001b[0m\u001b[0;34m(\u001b[0m\u001b[0mself\u001b[0m\u001b[0;34m.\u001b[0m\u001b[0m_wrapped\u001b[0m\u001b[0;34m)\u001b[0m\u001b[0;34m\u001b[0m\u001b[0;34m\u001b[0m\u001b[0m\n\u001b[0m\u001b[1;32m    117\u001b[0m         \u001b[0;32mexcept\u001b[0m \u001b[0mgrpc\u001b[0m\u001b[0;34m.\u001b[0m\u001b[0mRpcError\u001b[0m \u001b[0;32mas\u001b[0m \u001b[0mexc\u001b[0m\u001b[0;34m:\u001b[0m\u001b[0;34m\u001b[0m\u001b[0;34m\u001b[0m\u001b[0m\n",
            "\u001b[0;32m/usr/local/lib/python3.11/dist-packages/grpc/_channel.py\u001b[0m in \u001b[0;36m__next__\u001b[0;34m(self)\u001b[0m\n\u001b[1;32m    542\u001b[0m     \u001b[0;32mdef\u001b[0m \u001b[0m__next__\u001b[0m\u001b[0;34m(\u001b[0m\u001b[0mself\u001b[0m\u001b[0;34m)\u001b[0m\u001b[0;34m:\u001b[0m\u001b[0;34m\u001b[0m\u001b[0;34m\u001b[0m\u001b[0m\n\u001b[0;32m--> 543\u001b[0;31m         \u001b[0;32mreturn\u001b[0m \u001b[0mself\u001b[0m\u001b[0;34m.\u001b[0m\u001b[0m_next\u001b[0m\u001b[0;34m(\u001b[0m\u001b[0;34m)\u001b[0m\u001b[0;34m\u001b[0m\u001b[0;34m\u001b[0m\u001b[0m\n\u001b[0m\u001b[1;32m    544\u001b[0m \u001b[0;34m\u001b[0m\u001b[0m\n",
            "\u001b[0;32m/usr/local/lib/python3.11/dist-packages/grpc/_channel.py\u001b[0m in \u001b[0;36m_next\u001b[0;34m(self)\u001b[0m\n\u001b[1;32m    968\u001b[0m                 \u001b[0;32melif\u001b[0m \u001b[0mself\u001b[0m\u001b[0;34m.\u001b[0m\u001b[0m_state\u001b[0m\u001b[0;34m.\u001b[0m\u001b[0mcode\u001b[0m \u001b[0;32mis\u001b[0m \u001b[0;32mnot\u001b[0m \u001b[0;32mNone\u001b[0m\u001b[0;34m:\u001b[0m\u001b[0;34m\u001b[0m\u001b[0;34m\u001b[0m\u001b[0m\n\u001b[0;32m--> 969\u001b[0;31m                     \u001b[0;32mraise\u001b[0m \u001b[0mself\u001b[0m\u001b[0;34m\u001b[0m\u001b[0;34m\u001b[0m\u001b[0m\n\u001b[0m\u001b[1;32m    970\u001b[0m \u001b[0;34m\u001b[0m\u001b[0m\n",
            "\u001b[0;31m_MultiThreadedRendezvous\u001b[0m: <_MultiThreadedRendezvous of RPC that terminated with:\n\tstatus = StatusCode.FAILED_PRECONDITION\n\tdetails = \"Reasoning Engine Execution failed.\nPlease refer to our documentation (https://cloud.google.com/vertex-ai/generative-ai/docs/agent-engine/troubleshooting/use) for checking logs and other troubleshooting tips.\nError Details: \"\n\tdebug_error_string = \"UNKNOWN:Error received from peer ipv4:142.251.189.95:443 {created_time:\"2025-05-26T12:52:27.779982462+00:00\", grpc_status:9, grpc_message:\"Reasoning Engine Execution failed.\\nPlease refer to our documentation (https://cloud.google.com/vertex-ai/generative-ai/docs/agent-engine/troubleshooting/use) for checking logs and other troubleshooting tips.\\nError Details: \"}\"\n>",
            "\nThe above exception was the direct cause of the following exception:\n",
            "\u001b[0;31mFailedPrecondition\u001b[0m                        Traceback (most recent call last)",
            "\u001b[0;32m<ipython-input-34-9d45346a545b>\u001b[0m in \u001b[0;36m<cell line: 0>\u001b[0;34m()\u001b[0m\n\u001b[1;32m      7\u001b[0m \u001b[0;34m\u001b[0m\u001b[0m\n\u001b[1;32m      8\u001b[0m \u001b[0;31m# Send a query to the agent\u001b[0m\u001b[0;34m\u001b[0m\u001b[0;34m\u001b[0m\u001b[0m\n\u001b[0;32m----> 9\u001b[0;31m for event in remote_app.streaming_agent_run_with_events(\n\u001b[0m\u001b[1;32m     10\u001b[0m     \u001b[0muser_id\u001b[0m\u001b[0;34m=\u001b[0m\u001b[0muser_id\u001b[0m\u001b[0;34m,\u001b[0m\u001b[0;34m\u001b[0m\u001b[0;34m\u001b[0m\u001b[0m\n\u001b[1;32m     11\u001b[0m     \u001b[0msession_id\u001b[0m\u001b[0;34m=\u001b[0m\u001b[0mremote_session\u001b[0m\u001b[0;34m[\u001b[0m\u001b[0;34m\"id\"\u001b[0m\u001b[0;34m]\u001b[0m\u001b[0;34m,\u001b[0m \u001b[0;31m# Use the ID from your remote_session object\u001b[0m\u001b[0;34m\u001b[0m\u001b[0;34m\u001b[0m\u001b[0m\n",
            "\u001b[0;32m/usr/local/lib/python3.11/dist-packages/vertexai/agent_engines/_agent_engines.py\u001b[0m in \u001b[0;36m_method\u001b[0;34m(self, **kwargs)\u001b[0m\n\u001b[1;32m   1118\u001b[0m             ),\n\u001b[1;32m   1119\u001b[0m         )\n\u001b[0;32m-> 1120\u001b[0;31m         \u001b[0;32mfor\u001b[0m \u001b[0mchunk\u001b[0m \u001b[0;32min\u001b[0m \u001b[0mresponse\u001b[0m\u001b[0;34m:\u001b[0m\u001b[0;34m\u001b[0m\u001b[0;34m\u001b[0m\u001b[0m\n\u001b[0m\u001b[1;32m   1121\u001b[0m             \u001b[0;32mfor\u001b[0m \u001b[0mparsed_json\u001b[0m \u001b[0;32min\u001b[0m \u001b[0m_utils\u001b[0m\u001b[0;34m.\u001b[0m\u001b[0myield_parsed_json\u001b[0m\u001b[0;34m(\u001b[0m\u001b[0mchunk\u001b[0m\u001b[0;34m)\u001b[0m\u001b[0;34m:\u001b[0m\u001b[0;34m\u001b[0m\u001b[0;34m\u001b[0m\u001b[0m\n\u001b[1;32m   1122\u001b[0m                 \u001b[0;32mif\u001b[0m \u001b[0mparsed_json\u001b[0m \u001b[0;32mis\u001b[0m \u001b[0;32mnot\u001b[0m \u001b[0;32mNone\u001b[0m\u001b[0;34m:\u001b[0m\u001b[0;34m\u001b[0m\u001b[0;34m\u001b[0m\u001b[0m\n",
            "\u001b[0;32m/usr/local/lib/python3.11/dist-packages/google/api_core/grpc_helpers.py\u001b[0m in \u001b[0;36m__next__\u001b[0;34m(self)\u001b[0m\n\u001b[1;32m    117\u001b[0m         \u001b[0;32mexcept\u001b[0m \u001b[0mgrpc\u001b[0m\u001b[0;34m.\u001b[0m\u001b[0mRpcError\u001b[0m \u001b[0;32mas\u001b[0m \u001b[0mexc\u001b[0m\u001b[0;34m:\u001b[0m\u001b[0;34m\u001b[0m\u001b[0;34m\u001b[0m\u001b[0m\n\u001b[1;32m    118\u001b[0m             \u001b[0;31m# If the stream has already returned data, we cannot recover here.\u001b[0m\u001b[0;34m\u001b[0m\u001b[0;34m\u001b[0m\u001b[0m\n\u001b[0;32m--> 119\u001b[0;31m             \u001b[0;32mraise\u001b[0m \u001b[0mexceptions\u001b[0m\u001b[0;34m.\u001b[0m\u001b[0mfrom_grpc_error\u001b[0m\u001b[0;34m(\u001b[0m\u001b[0mexc\u001b[0m\u001b[0;34m)\u001b[0m \u001b[0;32mfrom\u001b[0m \u001b[0mexc\u001b[0m\u001b[0;34m\u001b[0m\u001b[0;34m\u001b[0m\u001b[0m\n\u001b[0m\u001b[1;32m    120\u001b[0m \u001b[0;34m\u001b[0m\u001b[0m\n\u001b[1;32m    121\u001b[0m     \u001b[0;31m# grpc.Call & grpc.RpcContext interface\u001b[0m\u001b[0;34m\u001b[0m\u001b[0;34m\u001b[0m\u001b[0m\n",
            "\u001b[0;31mFailedPrecondition\u001b[0m: 400 Reasoning Engine Execution failed.\nPlease refer to our documentation (https://cloud.google.com/vertex-ai/generative-ai/docs/agent-engine/troubleshooting/use) for checking logs and other troubleshooting tips.\nError Details: "
          ]
        }
      ]
    },
    {
      "cell_type": "code",
      "execution_count": null,
      "id": "e8558473",
      "metadata": {
        "id": "e8558473",
        "outputId": "3766de57-e319-400f-e166-26f2d5d001d8"
      },
      "outputs": [
        {
          "name": "stdout",
          "output_type": "stream",
          "text": [
            "{\n",
            "  \"name\": \"projects/850217602120/locations/global/collections/default_collection/engines/argolis-agentspace-jeffd_1747939249860/assistants/default_assistant/agents/7760300495693784793\",\n",
            "  \"displayName\": \"Roborock Agent 1\",\n",
            "  \"description\": \"This agent can control and get the status of a Roborock Vacuum\",\n",
            "  \"adkAgentDefinition\": {\n",
            "    \"toolSettings\": {\n",
            "      \"toolDescription\": \"This agent can control and get the status of a Roborock Vacuum\"\n",
            "    },\n",
            "    \"provisionedReasoningEngine\": {\n",
            "      \"reasoningEngine\": \"projects/850217602120/locations/us-central1/reasoningEngines/6774583719937179648\"\n",
            "    }\n",
            "  },\n",
            "  \"state\": \"CONFIGURED\"\n",
            "}\n"
          ]
        }
      ],
      "source": [
        "\n",
        "!curl -X POST \\\n",
        "    -H \"Content-Type: application/json\" \\\n",
        "    -H \"Authorization: Bearer $(gcloud auth print-access-token)\" \\\n",
        "    -H \"X-Goog-User-Project: fine-tuning-webinar\" \\\n",
        "\"https://discoveryengine.googleapis.com/v1alpha/projects/fine-tuning-webinar/locations/global/collections/default_collection/engines/argolis-agentspace-jeffd_1747939249860/assistants/default_assistant/agents\" \\\n",
        "-d '{ \\\n",
        "        \"displayName\": \"Roborock Agent 1\", \\\n",
        "        \"description\": \"This agent can control and get the status of a Roborock Vacuum\", \\\n",
        "        \"adk_agent_definition\": { \\\n",
        "            \"tool_settings\": { \\\n",
        "                \"tool_description\": \"This agent can control and get the status of a Roborock Vacuum\" \\\n",
        "            }, \\\n",
        "            \"provisioned_reasoning_engine\": { \\\n",
        "                \"reasoning_engine\":f\"{engine_id}\" \\\n",
        "            }, \\\n",
        "        } \\\n",
        "}'"
      ]
    }
  ],
  "metadata": {
    "kernelspec": {
      "display_name": ".venv",
      "language": "python",
      "name": "python3"
    },
    "language_info": {
      "codemirror_mode": {
        "name": "ipython",
        "version": 3
      },
      "file_extension": ".py",
      "mimetype": "text/x-python",
      "name": "python",
      "nbconvert_exporter": "python",
      "pygments_lexer": "ipython3",
      "version": "3.11.2"
    },
    "colab": {
      "provenance": []
    }
  },
  "nbformat": 4,
  "nbformat_minor": 5
}